{
 "cells": [
  {
   "cell_type": "markdown",
   "metadata": {},
   "source": [
    "# Testing"
   ]
  },
  {
   "cell_type": "code",
   "execution_count": 1,
   "metadata": {},
   "outputs": [
    {
     "data": {
      "application/javascript": [
       "\n",
       "(function(root) {\n",
       "  function now() {\n",
       "    return new Date();\n",
       "  }\n",
       "\n",
       "  var force = true;\n",
       "\n",
       "  if (typeof root._bokeh_onload_callbacks === \"undefined\" || force === true) {\n",
       "    root._bokeh_onload_callbacks = [];\n",
       "    root._bokeh_is_loading = undefined;\n",
       "  }\n",
       "\n",
       "  if (typeof (root._bokeh_timeout) === \"undefined\" || force === true) {\n",
       "    root._bokeh_timeout = Date.now() + 5000;\n",
       "    root._bokeh_failed_load = false;\n",
       "  }\n",
       "\n",
       "  function run_callbacks() {\n",
       "    try {\n",
       "      root._bokeh_onload_callbacks.forEach(function(callback) {\n",
       "        if (callback != null)\n",
       "          callback();\n",
       "      });\n",
       "    } finally {\n",
       "      delete root._bokeh_onload_callbacks\n",
       "    }\n",
       "    console.debug(\"Bokeh: all callbacks have finished\");\n",
       "  }\n",
       "\n",
       "  function load_libs(css_urls, js_urls, callback) {\n",
       "    if (css_urls == null) css_urls = [];\n",
       "    if (js_urls == null) js_urls = [];\n",
       "\n",
       "    root._bokeh_onload_callbacks.push(callback);\n",
       "    if (root._bokeh_is_loading > 0) {\n",
       "      console.debug(\"Bokeh: BokehJS is being loaded, scheduling callback at\", now());\n",
       "      return null;\n",
       "    }\n",
       "    if (js_urls == null || js_urls.length === 0) {\n",
       "      run_callbacks();\n",
       "      return null;\n",
       "    }\n",
       "    console.debug(\"Bokeh: BokehJS not loaded, scheduling load and callback at\", now());\n",
       "    root._bokeh_is_loading = css_urls.length + js_urls.length;\n",
       "\n",
       "    function on_load() {\n",
       "      root._bokeh_is_loading--;\n",
       "      if (root._bokeh_is_loading === 0) {\n",
       "        console.debug(\"Bokeh: all BokehJS libraries/stylesheets loaded\");\n",
       "        run_callbacks()\n",
       "      }\n",
       "    }\n",
       "\n",
       "    function on_error() {\n",
       "      console.error(\"failed to load \" + url);\n",
       "    }\n",
       "\n",
       "    for (var i = 0; i < css_urls.length; i++) {\n",
       "      var url = css_urls[i];\n",
       "      const element = document.createElement(\"link\");\n",
       "      element.onload = on_load;\n",
       "      element.onerror = on_error;\n",
       "      element.rel = \"stylesheet\";\n",
       "      element.type = \"text/css\";\n",
       "      element.href = url;\n",
       "      console.debug(\"Bokeh: injecting link tag for BokehJS stylesheet: \", url);\n",
       "      document.body.appendChild(element);\n",
       "    }\n",
       "\n",
       "    var skip = [];\n",
       "    if (window.requirejs) {\n",
       "      require([], function() {\n",
       "      })\n",
       "    }\n",
       "    for (var i = 0; i < js_urls.length; i++) {\n",
       "      var url = js_urls[i];\n",
       "      if (skip.indexOf(url) >= 0) { on_load(); continue; }\n",
       "      var element = document.createElement('script');\n",
       "      element.onload = on_load;\n",
       "      element.onerror = on_error;\n",
       "      element.async = false;\n",
       "      element.src = url;\n",
       "      console.debug(\"Bokeh: injecting script tag for BokehJS library: \", url);\n",
       "      document.head.appendChild(element);\n",
       "    }\n",
       "\tif (!js_urls.length) {\n",
       "      on_load()\n",
       "    }\n",
       "  };\n",
       "\n",
       "  function inject_raw_css(css) {\n",
       "    const element = document.createElement(\"style\");\n",
       "    element.appendChild(document.createTextNode(css));\n",
       "    document.body.appendChild(element);\n",
       "  }\n",
       "\n",
       "  var js_urls = [\"https://cdn.bokeh.org/bokeh/release/bokeh-2.2.3.min.js\", \"https://cdn.bokeh.org/bokeh/release/bokeh-widgets-2.2.3.min.js\", \"https://cdn.bokeh.org/bokeh/release/bokeh-tables-2.2.3.min.js\", \"https://unpkg.com/@holoviz/panel@^0.10.2/dist/panel.min.js\"];\n",
       "  var css_urls = [\"https://unpkg.com/@holoviz/panel@0.10.2/dist/css/dataframe.css\", \"https://unpkg.com/@holoviz/panel@0.10.2/dist/css/card.css\", \"https://unpkg.com/@holoviz/panel@0.10.2/dist/css/json.css\", \"https://unpkg.com/@holoviz/panel@0.10.2/dist/css/widgets.css\", \"https://unpkg.com/@holoviz/panel@0.10.2/dist/css/markdown.css\", \"https://unpkg.com/@holoviz/panel@0.10.2/dist/css/alerts.css\"];\n",
       "\n",
       "  var inline_js = [\n",
       "    function(Bokeh) {\n",
       "      Bokeh.set_log_level(\"info\");\n",
       "    },\n",
       "    function(Bokeh) {} // ensure no trailing comma for IE\n",
       "  ];\n",
       "\n",
       "  function run_inline_js() {\n",
       "    if ((root.Bokeh !== undefined) || (force === true)) {\n",
       "      for (var i = 0; i < inline_js.length; i++) {\n",
       "        inline_js[i].call(root, root.Bokeh);\n",
       "      }} else if (Date.now() < root._bokeh_timeout) {\n",
       "      setTimeout(run_inline_js, 100);\n",
       "    } else if (!root._bokeh_failed_load) {\n",
       "      console.log(\"Bokeh: BokehJS failed to load within specified timeout.\");\n",
       "      root._bokeh_failed_load = true;\n",
       "    }\n",
       "  }\n",
       "\n",
       "  if (root._bokeh_is_loading === 0) {\n",
       "    console.debug(\"Bokeh: BokehJS loaded, going straight to plotting\");\n",
       "    run_inline_js();\n",
       "  } else {\n",
       "    load_libs(css_urls, js_urls, function() {\n",
       "      console.debug(\"Bokeh: BokehJS plotting callback run at\", now());\n",
       "      run_inline_js();\n",
       "    });\n",
       "  }\n",
       "}(window));"
      ],
      "application/vnd.holoviews_load.v0+json": "\n(function(root) {\n  function now() {\n    return new Date();\n  }\n\n  var force = true;\n\n  if (typeof root._bokeh_onload_callbacks === \"undefined\" || force === true) {\n    root._bokeh_onload_callbacks = [];\n    root._bokeh_is_loading = undefined;\n  }\n\n  if (typeof (root._bokeh_timeout) === \"undefined\" || force === true) {\n    root._bokeh_timeout = Date.now() + 5000;\n    root._bokeh_failed_load = false;\n  }\n\n  function run_callbacks() {\n    try {\n      root._bokeh_onload_callbacks.forEach(function(callback) {\n        if (callback != null)\n          callback();\n      });\n    } finally {\n      delete root._bokeh_onload_callbacks\n    }\n    console.debug(\"Bokeh: all callbacks have finished\");\n  }\n\n  function load_libs(css_urls, js_urls, callback) {\n    if (css_urls == null) css_urls = [];\n    if (js_urls == null) js_urls = [];\n\n    root._bokeh_onload_callbacks.push(callback);\n    if (root._bokeh_is_loading > 0) {\n      console.debug(\"Bokeh: BokehJS is being loaded, scheduling callback at\", now());\n      return null;\n    }\n    if (js_urls == null || js_urls.length === 0) {\n      run_callbacks();\n      return null;\n    }\n    console.debug(\"Bokeh: BokehJS not loaded, scheduling load and callback at\", now());\n    root._bokeh_is_loading = css_urls.length + js_urls.length;\n\n    function on_load() {\n      root._bokeh_is_loading--;\n      if (root._bokeh_is_loading === 0) {\n        console.debug(\"Bokeh: all BokehJS libraries/stylesheets loaded\");\n        run_callbacks()\n      }\n    }\n\n    function on_error() {\n      console.error(\"failed to load \" + url);\n    }\n\n    for (var i = 0; i < css_urls.length; i++) {\n      var url = css_urls[i];\n      const element = document.createElement(\"link\");\n      element.onload = on_load;\n      element.onerror = on_error;\n      element.rel = \"stylesheet\";\n      element.type = \"text/css\";\n      element.href = url;\n      console.debug(\"Bokeh: injecting link tag for BokehJS stylesheet: \", url);\n      document.body.appendChild(element);\n    }\n\n    var skip = [];\n    if (window.requirejs) {\n      require([], function() {\n      })\n    }\n    for (var i = 0; i < js_urls.length; i++) {\n      var url = js_urls[i];\n      if (skip.indexOf(url) >= 0) { on_load(); continue; }\n      var element = document.createElement('script');\n      element.onload = on_load;\n      element.onerror = on_error;\n      element.async = false;\n      element.src = url;\n      console.debug(\"Bokeh: injecting script tag for BokehJS library: \", url);\n      document.head.appendChild(element);\n    }\n\tif (!js_urls.length) {\n      on_load()\n    }\n  };\n\n  function inject_raw_css(css) {\n    const element = document.createElement(\"style\");\n    element.appendChild(document.createTextNode(css));\n    document.body.appendChild(element);\n  }\n\n  var js_urls = [\"https://cdn.bokeh.org/bokeh/release/bokeh-2.2.3.min.js\", \"https://cdn.bokeh.org/bokeh/release/bokeh-widgets-2.2.3.min.js\", \"https://cdn.bokeh.org/bokeh/release/bokeh-tables-2.2.3.min.js\", \"https://unpkg.com/@holoviz/panel@^0.10.2/dist/panel.min.js\"];\n  var css_urls = [\"https://unpkg.com/@holoviz/panel@0.10.2/dist/css/dataframe.css\", \"https://unpkg.com/@holoviz/panel@0.10.2/dist/css/card.css\", \"https://unpkg.com/@holoviz/panel@0.10.2/dist/css/json.css\", \"https://unpkg.com/@holoviz/panel@0.10.2/dist/css/widgets.css\", \"https://unpkg.com/@holoviz/panel@0.10.2/dist/css/markdown.css\", \"https://unpkg.com/@holoviz/panel@0.10.2/dist/css/alerts.css\"];\n\n  var inline_js = [\n    function(Bokeh) {\n      Bokeh.set_log_level(\"info\");\n    },\n    function(Bokeh) {} // ensure no trailing comma for IE\n  ];\n\n  function run_inline_js() {\n    if ((root.Bokeh !== undefined) || (force === true)) {\n      for (var i = 0; i < inline_js.length; i++) {\n        inline_js[i].call(root, root.Bokeh);\n      }} else if (Date.now() < root._bokeh_timeout) {\n      setTimeout(run_inline_js, 100);\n    } else if (!root._bokeh_failed_load) {\n      console.log(\"Bokeh: BokehJS failed to load within specified timeout.\");\n      root._bokeh_failed_load = true;\n    }\n  }\n\n  if (root._bokeh_is_loading === 0) {\n    console.debug(\"Bokeh: BokehJS loaded, going straight to plotting\");\n    run_inline_js();\n  } else {\n    load_libs(css_urls, js_urls, function() {\n      console.debug(\"Bokeh: BokehJS plotting callback run at\", now());\n      run_inline_js();\n    });\n  }\n}(window));"
     },
     "metadata": {},
     "output_type": "display_data"
    },
    {
     "data": {
      "application/javascript": [
       "\n",
       "if ((window.PyViz === undefined) || (window.PyViz instanceof HTMLElement)) {\n",
       "  window.PyViz = {comms: {}, comm_status:{}, kernels:{}, receivers: {}, plot_index: []}\n",
       "}\n",
       "\n",
       "\n",
       "    function JupyterCommManager() {\n",
       "    }\n",
       "\n",
       "    JupyterCommManager.prototype.register_target = function(plot_id, comm_id, msg_handler) {\n",
       "      if (window.comm_manager || ((window.Jupyter !== undefined) && (Jupyter.notebook.kernel != null))) {\n",
       "        var comm_manager = window.comm_manager || Jupyter.notebook.kernel.comm_manager;\n",
       "        comm_manager.register_target(comm_id, function(comm) {\n",
       "          comm.on_msg(msg_handler);\n",
       "        });\n",
       "      } else if ((plot_id in window.PyViz.kernels) && (window.PyViz.kernels[plot_id])) {\n",
       "        window.PyViz.kernels[plot_id].registerCommTarget(comm_id, function(comm) {\n",
       "          comm.onMsg = msg_handler;\n",
       "        });\n",
       "      } else if (typeof google != 'undefined' && google.colab.kernel != null) {\n",
       "        google.colab.kernel.comms.registerTarget(comm_id, (comm) => {\n",
       "          var messages = comm.messages[Symbol.asyncIterator]();\n",
       "          function processIteratorResult(result) {\n",
       "            var message = result.value;\n",
       "            console.log(message)\n",
       "            var content = {data: message.data, comm_id};\n",
       "            var buffers = []\n",
       "            for (var buffer of message.buffers || []) {\n",
       "              buffers.push(new DataView(buffer))\n",
       "            }\n",
       "            var metadata = message.metadata || {};\n",
       "            var msg = {content, buffers, metadata}\n",
       "            msg_handler(msg);\n",
       "            return messages.next().then(processIteratorResult);\n",
       "          }\n",
       "          return messages.next().then(processIteratorResult);\n",
       "        })\n",
       "      }\n",
       "    }\n",
       "\n",
       "    JupyterCommManager.prototype.get_client_comm = function(plot_id, comm_id, msg_handler) {\n",
       "      if (comm_id in window.PyViz.comms) {\n",
       "        return window.PyViz.comms[comm_id];\n",
       "      } else if (window.comm_manager || ((window.Jupyter !== undefined) && (Jupyter.notebook.kernel != null))) {\n",
       "        var comm_manager = window.comm_manager || Jupyter.notebook.kernel.comm_manager;\n",
       "        var comm = comm_manager.new_comm(comm_id, {}, {}, {}, comm_id);\n",
       "        if (msg_handler) {\n",
       "          comm.on_msg(msg_handler);\n",
       "        }\n",
       "      } else if ((plot_id in window.PyViz.kernels) && (window.PyViz.kernels[plot_id])) {\n",
       "        var comm = window.PyViz.kernels[plot_id].connectToComm(comm_id);\n",
       "        comm.open();\n",
       "        if (msg_handler) {\n",
       "          comm.onMsg = msg_handler;\n",
       "        }\n",
       "      } else if (typeof google != 'undefined' && google.colab.kernel != null) {\n",
       "        var comm_promise = google.colab.kernel.comms.open(comm_id)\n",
       "        comm_promise.then((comm) => {\n",
       "          window.PyViz.comms[comm_id] = comm;\n",
       "          if (msg_handler) {\n",
       "            var messages = comm.messages[Symbol.asyncIterator]();\n",
       "            function processIteratorResult(result) {\n",
       "              var message = result.value;\n",
       "              var content = {data: message.data};\n",
       "              var metadata = message.metadata || {comm_id};\n",
       "              var msg = {content, metadata}\n",
       "              msg_handler(msg);\n",
       "              return messages.next().then(processIteratorResult);\n",
       "            }\n",
       "            return messages.next().then(processIteratorResult);\n",
       "          }\n",
       "        }) \n",
       "        var sendClosure = (data, metadata, buffers, disposeOnDone) => {\n",
       "          return comm_promise.then((comm) => {\n",
       "            comm.send(data, metadata, buffers, disposeOnDone);\n",
       "          });\n",
       "        };\n",
       "        var comm = {\n",
       "          send: sendClosure\n",
       "        };\n",
       "      }\n",
       "      window.PyViz.comms[comm_id] = comm;\n",
       "      return comm;\n",
       "    }\n",
       "    window.PyViz.comm_manager = new JupyterCommManager();\n",
       "    \n",
       "\n",
       "\n",
       "var JS_MIME_TYPE = 'application/javascript';\n",
       "var HTML_MIME_TYPE = 'text/html';\n",
       "var EXEC_MIME_TYPE = 'application/vnd.holoviews_exec.v0+json';\n",
       "var CLASS_NAME = 'output';\n",
       "\n",
       "/**\n",
       " * Render data to the DOM node\n",
       " */\n",
       "function render(props, node) {\n",
       "  var div = document.createElement(\"div\");\n",
       "  var script = document.createElement(\"script\");\n",
       "  node.appendChild(div);\n",
       "  node.appendChild(script);\n",
       "}\n",
       "\n",
       "/**\n",
       " * Handle when a new output is added\n",
       " */\n",
       "function handle_add_output(event, handle) {\n",
       "  var output_area = handle.output_area;\n",
       "  var output = handle.output;\n",
       "  if ((output.data == undefined) || (!output.data.hasOwnProperty(EXEC_MIME_TYPE))) {\n",
       "    return\n",
       "  }\n",
       "  var id = output.metadata[EXEC_MIME_TYPE][\"id\"];\n",
       "  var toinsert = output_area.element.find(\".\" + CLASS_NAME.split(' ')[0]);\n",
       "  if (id !== undefined) {\n",
       "    var nchildren = toinsert.length;\n",
       "    var html_node = toinsert[nchildren-1].children[0];\n",
       "    html_node.innerHTML = output.data[HTML_MIME_TYPE];\n",
       "    var scripts = [];\n",
       "    var nodelist = html_node.querySelectorAll(\"script\");\n",
       "    for (var i in nodelist) {\n",
       "      if (nodelist.hasOwnProperty(i)) {\n",
       "        scripts.push(nodelist[i])\n",
       "      }\n",
       "    }\n",
       "\n",
       "    scripts.forEach( function (oldScript) {\n",
       "      var newScript = document.createElement(\"script\");\n",
       "      var attrs = [];\n",
       "      var nodemap = oldScript.attributes;\n",
       "      for (var j in nodemap) {\n",
       "        if (nodemap.hasOwnProperty(j)) {\n",
       "          attrs.push(nodemap[j])\n",
       "        }\n",
       "      }\n",
       "      attrs.forEach(function(attr) { newScript.setAttribute(attr.name, attr.value) });\n",
       "      newScript.appendChild(document.createTextNode(oldScript.innerHTML));\n",
       "      oldScript.parentNode.replaceChild(newScript, oldScript);\n",
       "    });\n",
       "    if (JS_MIME_TYPE in output.data) {\n",
       "      toinsert[nchildren-1].children[1].textContent = output.data[JS_MIME_TYPE];\n",
       "    }\n",
       "    output_area._hv_plot_id = id;\n",
       "    if ((window.Bokeh !== undefined) && (id in Bokeh.index)) {\n",
       "      window.PyViz.plot_index[id] = Bokeh.index[id];\n",
       "    } else {\n",
       "      window.PyViz.plot_index[id] = null;\n",
       "    }\n",
       "  } else if (output.metadata[EXEC_MIME_TYPE][\"server_id\"] !== undefined) {\n",
       "    var bk_div = document.createElement(\"div\");\n",
       "    bk_div.innerHTML = output.data[HTML_MIME_TYPE];\n",
       "    var script_attrs = bk_div.children[0].attributes;\n",
       "    for (var i = 0; i < script_attrs.length; i++) {\n",
       "      toinsert[toinsert.length - 1].childNodes[1].setAttribute(script_attrs[i].name, script_attrs[i].value);\n",
       "    }\n",
       "    // store reference to server id on output_area\n",
       "    output_area._bokeh_server_id = output.metadata[EXEC_MIME_TYPE][\"server_id\"];\n",
       "  }\n",
       "}\n",
       "\n",
       "/**\n",
       " * Handle when an output is cleared or removed\n",
       " */\n",
       "function handle_clear_output(event, handle) {\n",
       "  var id = handle.cell.output_area._hv_plot_id;\n",
       "  var server_id = handle.cell.output_area._bokeh_server_id;\n",
       "  if (((id === undefined) || !(id in PyViz.plot_index)) && (server_id !== undefined)) { return; }\n",
       "  var comm = window.PyViz.comm_manager.get_client_comm(\"hv-extension-comm\", \"hv-extension-comm\", function () {});\n",
       "  if (server_id !== null) {\n",
       "    comm.send({event_type: 'server_delete', 'id': server_id});\n",
       "    return;\n",
       "  } else if (comm !== null) {\n",
       "    comm.send({event_type: 'delete', 'id': id});\n",
       "  }\n",
       "  delete PyViz.plot_index[id];\n",
       "  if ((window.Bokeh !== undefined) & (id in window.Bokeh.index)) {\n",
       "    var doc = window.Bokeh.index[id].model.document\n",
       "    doc.clear();\n",
       "    const i = window.Bokeh.documents.indexOf(doc);\n",
       "    if (i > -1) {\n",
       "      window.Bokeh.documents.splice(i, 1);\n",
       "    }\n",
       "  }\n",
       "}\n",
       "\n",
       "/**\n",
       " * Handle kernel restart event\n",
       " */\n",
       "function handle_kernel_cleanup(event, handle) {\n",
       "  delete PyViz.comms[\"hv-extension-comm\"];\n",
       "  window.PyViz.plot_index = {}\n",
       "}\n",
       "\n",
       "/**\n",
       " * Handle update_display_data messages\n",
       " */\n",
       "function handle_update_output(event, handle) {\n",
       "  handle_clear_output(event, {cell: {output_area: handle.output_area}})\n",
       "  handle_add_output(event, handle)\n",
       "}\n",
       "\n",
       "function register_renderer(events, OutputArea) {\n",
       "  function append_mime(data, metadata, element) {\n",
       "    // create a DOM node to render to\n",
       "    var toinsert = this.create_output_subarea(\n",
       "    metadata,\n",
       "    CLASS_NAME,\n",
       "    EXEC_MIME_TYPE\n",
       "    );\n",
       "    this.keyboard_manager.register_events(toinsert);\n",
       "    // Render to node\n",
       "    var props = {data: data, metadata: metadata[EXEC_MIME_TYPE]};\n",
       "    render(props, toinsert[0]);\n",
       "    element.append(toinsert);\n",
       "    return toinsert\n",
       "  }\n",
       "\n",
       "  events.on('output_added.OutputArea', handle_add_output);\n",
       "  events.on('output_updated.OutputArea', handle_update_output);\n",
       "  events.on('clear_output.CodeCell', handle_clear_output);\n",
       "  events.on('delete.Cell', handle_clear_output);\n",
       "  events.on('kernel_ready.Kernel', handle_kernel_cleanup);\n",
       "\n",
       "  OutputArea.prototype.register_mime_type(EXEC_MIME_TYPE, append_mime, {\n",
       "    safe: true,\n",
       "    index: 0\n",
       "  });\n",
       "}\n",
       "\n",
       "if (window.Jupyter !== undefined) {\n",
       "  try {\n",
       "    var events = require('base/js/events');\n",
       "    var OutputArea = require('notebook/js/outputarea').OutputArea;\n",
       "    if (OutputArea.prototype.mime_types().indexOf(EXEC_MIME_TYPE) == -1) {\n",
       "      register_renderer(events, OutputArea);\n",
       "    }\n",
       "  } catch(err) {\n",
       "  }\n",
       "}\n"
      ],
      "application/vnd.holoviews_load.v0+json": "\nif ((window.PyViz === undefined) || (window.PyViz instanceof HTMLElement)) {\n  window.PyViz = {comms: {}, comm_status:{}, kernels:{}, receivers: {}, plot_index: []}\n}\n\n\n    function JupyterCommManager() {\n    }\n\n    JupyterCommManager.prototype.register_target = function(plot_id, comm_id, msg_handler) {\n      if (window.comm_manager || ((window.Jupyter !== undefined) && (Jupyter.notebook.kernel != null))) {\n        var comm_manager = window.comm_manager || Jupyter.notebook.kernel.comm_manager;\n        comm_manager.register_target(comm_id, function(comm) {\n          comm.on_msg(msg_handler);\n        });\n      } else if ((plot_id in window.PyViz.kernels) && (window.PyViz.kernels[plot_id])) {\n        window.PyViz.kernels[plot_id].registerCommTarget(comm_id, function(comm) {\n          comm.onMsg = msg_handler;\n        });\n      } else if (typeof google != 'undefined' && google.colab.kernel != null) {\n        google.colab.kernel.comms.registerTarget(comm_id, (comm) => {\n          var messages = comm.messages[Symbol.asyncIterator]();\n          function processIteratorResult(result) {\n            var message = result.value;\n            console.log(message)\n            var content = {data: message.data, comm_id};\n            var buffers = []\n            for (var buffer of message.buffers || []) {\n              buffers.push(new DataView(buffer))\n            }\n            var metadata = message.metadata || {};\n            var msg = {content, buffers, metadata}\n            msg_handler(msg);\n            return messages.next().then(processIteratorResult);\n          }\n          return messages.next().then(processIteratorResult);\n        })\n      }\n    }\n\n    JupyterCommManager.prototype.get_client_comm = function(plot_id, comm_id, msg_handler) {\n      if (comm_id in window.PyViz.comms) {\n        return window.PyViz.comms[comm_id];\n      } else if (window.comm_manager || ((window.Jupyter !== undefined) && (Jupyter.notebook.kernel != null))) {\n        var comm_manager = window.comm_manager || Jupyter.notebook.kernel.comm_manager;\n        var comm = comm_manager.new_comm(comm_id, {}, {}, {}, comm_id);\n        if (msg_handler) {\n          comm.on_msg(msg_handler);\n        }\n      } else if ((plot_id in window.PyViz.kernels) && (window.PyViz.kernels[plot_id])) {\n        var comm = window.PyViz.kernels[plot_id].connectToComm(comm_id);\n        comm.open();\n        if (msg_handler) {\n          comm.onMsg = msg_handler;\n        }\n      } else if (typeof google != 'undefined' && google.colab.kernel != null) {\n        var comm_promise = google.colab.kernel.comms.open(comm_id)\n        comm_promise.then((comm) => {\n          window.PyViz.comms[comm_id] = comm;\n          if (msg_handler) {\n            var messages = comm.messages[Symbol.asyncIterator]();\n            function processIteratorResult(result) {\n              var message = result.value;\n              var content = {data: message.data};\n              var metadata = message.metadata || {comm_id};\n              var msg = {content, metadata}\n              msg_handler(msg);\n              return messages.next().then(processIteratorResult);\n            }\n            return messages.next().then(processIteratorResult);\n          }\n        }) \n        var sendClosure = (data, metadata, buffers, disposeOnDone) => {\n          return comm_promise.then((comm) => {\n            comm.send(data, metadata, buffers, disposeOnDone);\n          });\n        };\n        var comm = {\n          send: sendClosure\n        };\n      }\n      window.PyViz.comms[comm_id] = comm;\n      return comm;\n    }\n    window.PyViz.comm_manager = new JupyterCommManager();\n    \n\n\nvar JS_MIME_TYPE = 'application/javascript';\nvar HTML_MIME_TYPE = 'text/html';\nvar EXEC_MIME_TYPE = 'application/vnd.holoviews_exec.v0+json';\nvar CLASS_NAME = 'output';\n\n/**\n * Render data to the DOM node\n */\nfunction render(props, node) {\n  var div = document.createElement(\"div\");\n  var script = document.createElement(\"script\");\n  node.appendChild(div);\n  node.appendChild(script);\n}\n\n/**\n * Handle when a new output is added\n */\nfunction handle_add_output(event, handle) {\n  var output_area = handle.output_area;\n  var output = handle.output;\n  if ((output.data == undefined) || (!output.data.hasOwnProperty(EXEC_MIME_TYPE))) {\n    return\n  }\n  var id = output.metadata[EXEC_MIME_TYPE][\"id\"];\n  var toinsert = output_area.element.find(\".\" + CLASS_NAME.split(' ')[0]);\n  if (id !== undefined) {\n    var nchildren = toinsert.length;\n    var html_node = toinsert[nchildren-1].children[0];\n    html_node.innerHTML = output.data[HTML_MIME_TYPE];\n    var scripts = [];\n    var nodelist = html_node.querySelectorAll(\"script\");\n    for (var i in nodelist) {\n      if (nodelist.hasOwnProperty(i)) {\n        scripts.push(nodelist[i])\n      }\n    }\n\n    scripts.forEach( function (oldScript) {\n      var newScript = document.createElement(\"script\");\n      var attrs = [];\n      var nodemap = oldScript.attributes;\n      for (var j in nodemap) {\n        if (nodemap.hasOwnProperty(j)) {\n          attrs.push(nodemap[j])\n        }\n      }\n      attrs.forEach(function(attr) { newScript.setAttribute(attr.name, attr.value) });\n      newScript.appendChild(document.createTextNode(oldScript.innerHTML));\n      oldScript.parentNode.replaceChild(newScript, oldScript);\n    });\n    if (JS_MIME_TYPE in output.data) {\n      toinsert[nchildren-1].children[1].textContent = output.data[JS_MIME_TYPE];\n    }\n    output_area._hv_plot_id = id;\n    if ((window.Bokeh !== undefined) && (id in Bokeh.index)) {\n      window.PyViz.plot_index[id] = Bokeh.index[id];\n    } else {\n      window.PyViz.plot_index[id] = null;\n    }\n  } else if (output.metadata[EXEC_MIME_TYPE][\"server_id\"] !== undefined) {\n    var bk_div = document.createElement(\"div\");\n    bk_div.innerHTML = output.data[HTML_MIME_TYPE];\n    var script_attrs = bk_div.children[0].attributes;\n    for (var i = 0; i < script_attrs.length; i++) {\n      toinsert[toinsert.length - 1].childNodes[1].setAttribute(script_attrs[i].name, script_attrs[i].value);\n    }\n    // store reference to server id on output_area\n    output_area._bokeh_server_id = output.metadata[EXEC_MIME_TYPE][\"server_id\"];\n  }\n}\n\n/**\n * Handle when an output is cleared or removed\n */\nfunction handle_clear_output(event, handle) {\n  var id = handle.cell.output_area._hv_plot_id;\n  var server_id = handle.cell.output_area._bokeh_server_id;\n  if (((id === undefined) || !(id in PyViz.plot_index)) && (server_id !== undefined)) { return; }\n  var comm = window.PyViz.comm_manager.get_client_comm(\"hv-extension-comm\", \"hv-extension-comm\", function () {});\n  if (server_id !== null) {\n    comm.send({event_type: 'server_delete', 'id': server_id});\n    return;\n  } else if (comm !== null) {\n    comm.send({event_type: 'delete', 'id': id});\n  }\n  delete PyViz.plot_index[id];\n  if ((window.Bokeh !== undefined) & (id in window.Bokeh.index)) {\n    var doc = window.Bokeh.index[id].model.document\n    doc.clear();\n    const i = window.Bokeh.documents.indexOf(doc);\n    if (i > -1) {\n      window.Bokeh.documents.splice(i, 1);\n    }\n  }\n}\n\n/**\n * Handle kernel restart event\n */\nfunction handle_kernel_cleanup(event, handle) {\n  delete PyViz.comms[\"hv-extension-comm\"];\n  window.PyViz.plot_index = {}\n}\n\n/**\n * Handle update_display_data messages\n */\nfunction handle_update_output(event, handle) {\n  handle_clear_output(event, {cell: {output_area: handle.output_area}})\n  handle_add_output(event, handle)\n}\n\nfunction register_renderer(events, OutputArea) {\n  function append_mime(data, metadata, element) {\n    // create a DOM node to render to\n    var toinsert = this.create_output_subarea(\n    metadata,\n    CLASS_NAME,\n    EXEC_MIME_TYPE\n    );\n    this.keyboard_manager.register_events(toinsert);\n    // Render to node\n    var props = {data: data, metadata: metadata[EXEC_MIME_TYPE]};\n    render(props, toinsert[0]);\n    element.append(toinsert);\n    return toinsert\n  }\n\n  events.on('output_added.OutputArea', handle_add_output);\n  events.on('output_updated.OutputArea', handle_update_output);\n  events.on('clear_output.CodeCell', handle_clear_output);\n  events.on('delete.Cell', handle_clear_output);\n  events.on('kernel_ready.Kernel', handle_kernel_cleanup);\n\n  OutputArea.prototype.register_mime_type(EXEC_MIME_TYPE, append_mime, {\n    safe: true,\n    index: 0\n  });\n}\n\nif (window.Jupyter !== undefined) {\n  try {\n    var events = require('base/js/events');\n    var OutputArea = require('notebook/js/outputarea').OutputArea;\n    if (OutputArea.prototype.mime_types().indexOf(EXEC_MIME_TYPE) == -1) {\n      register_renderer(events, OutputArea);\n    }\n  } catch(err) {\n  }\n}\n"
     },
     "metadata": {},
     "output_type": "display_data"
    }
   ],
   "source": [
    "# imports\n",
    "import os\n",
    "import numpy as np\n",
    "import geopandas as gpd\n",
    "#import folium as fm\n",
    "import panel as pn\n",
    "import pandas as pd\n",
    "import geopandas as gpd\n",
    "#import geoviews as gv\n",
    "import hvplot as hvp\n",
    "\n",
    "# setup extensions\n",
    "pn.extension()\n",
    "#gv.extension('bokeh')\n",
    "\n",
    "# set display\n",
    "%matplotlib inline\n",
    "#%matplotlib notebook\n",
    "\n",
    "# set data dir\n",
    "data_dir = '/opt/app/data/DarkPeak'\n",
    "json_dir = 'DarkPeak_zonalstatsdata'"
   ]
  },
  {
   "cell_type": "code",
   "execution_count": null,
   "metadata": {},
   "outputs": [],
   "source": [
    "# list files in data_dir\n",
    "files = os.listdir(data_dir)\n",
    "print(files)"
   ]
  },
  {
   "cell_type": "code",
   "execution_count": null,
   "metadata": {},
   "outputs": [],
   "source": [
    "# read the shapefile as a geodataframe\n",
    "gdf = gpd.read_file(os.path.join(data_dir, files[0]))\n",
    "\n",
    "print (os.path.join(data_dir, files[0]))\n",
    "# get the CRS\n",
    "gdf.crs"
   ]
  },
  {
   "cell_type": "code",
   "execution_count": null,
   "metadata": {},
   "outputs": [],
   "source": []
  },
  {
   "cell_type": "code",
   "execution_count": null,
   "metadata": {},
   "outputs": [],
   "source": [
    "# reproject the geodataframe to a new gdf\n",
    "newgdf = gdf.to_crs(\"EPSG:4326\")"
   ]
  },
  {
   "cell_type": "code",
   "execution_count": null,
   "metadata": {},
   "outputs": [],
   "source": [
    "#import pandas as pd\n",
    "#import holoviews as hv\n",
    "#import geoviews as gv\n",
    "import geoviews.feature as gf\n",
    "#import cartopy\n",
    "#import cartopy.feature as cf\n",
    "\n",
    "#from geoviews import opts\n",
    "#from cartopy import crs as ccrs\n",
    "\n",
    "#gv.extension('matplotlib', 'bokeh')\n",
    "\n",
    "#gv.output(dpi=120, fig='svg')\n",
    "\n",
    "\n",
    "(gf.ocean + gf.land + gf.ocean * gf.land * gf.coastline * gf.borders).cols(3)\n",
    "#gv.Shape.from_shapefile(shapefile, crs=ccrs.PlateCarree())"
   ]
  },
  {
   "cell_type": "code",
   "execution_count": null,
   "metadata": {},
   "outputs": [],
   "source": [
    "# NO LONGER USED\n",
    "\n",
    "## create folium map\n",
    "#def get_map(lat=52.5, long=0.5, zoom_start=7):\n",
    "#    return fm.Map(location=[lat,long], zoom_start=zoom_start)\n",
    "\n",
    "#map = get_map()\n",
    "\n",
    "## convert gdf to json and add to map\n",
    "#fm.GeoJson(newgdf.to_json()).add_to(map)\n",
    "\n",
    "## display map as panel object\n",
    "#pn.panel(map)"
   ]
  },
  {
   "cell_type": "code",
   "execution_count": null,
   "metadata": {},
   "outputs": [],
   "source": [
    "# list files in data_dir\n",
    "files = os.listdir(os.path.join(data_dir, json_dir))\n",
    "#print(files)\n",
    "\n",
    "#df = pd.read_json(os.path.join(data_dir, json_dir, files[0]))\n",
    "df = pd.read_json(os.path.join(data_dir, json_dir, 'DarkPeak_full_zonal_stats.json'))\n",
    "\n",
    "type(df)"
   ]
  },
  {
   "cell_type": "code",
   "execution_count": null,
   "metadata": {},
   "outputs": [],
   "source": [
    "def select_row(row=0):\n",
    "    row = df.loc[row]\n",
    "    return row\n",
    "\n",
    "pn.interact(select_row, row=(0, len(df)-1))"
   ]
  },
  {
   "cell_type": "code",
   "execution_count": null,
   "metadata": {},
   "outputs": [],
   "source": [
    "#import panel as pn\n",
    "#import numpy as np\n",
    "import holoviews as hv\n",
    "#pn.extension()\n",
    "hv.extension('bokeh')\n",
    "\n",
    "_indices = ['NDVI','NDWI']\n",
    "#_cities     = {'Asia':['Singapore','Seoul','Shanghai'],\n",
    "#              'America':['Boston','Toronto','Quito','Santiago'],\n",
    "#              'Europe':['Madrid','London','Paris','Lisbon']}\n",
    "select_indices = pn.widgets.Select(name='Index',options=_indices, value=_indices[0])\n",
    "#select_city      = pn.widgets.Select(name='City',     options=_cities[select_continent.value], value=_cities[select_continent.value][0])\n",
    "\n",
    "#@pn.depends(select_continent.param.value, watch=True)\n",
    "#def _update_cities(continent):\n",
    "#    cities = _cities[continent]\n",
    "#    select_city.options = cities\n",
    "#    select_city.value = cities[0]\n",
    "    \n",
    "@pn.depends(select_indices.param.value)\n",
    "def get_plot(index):\n",
    "    data = df[df[\"index\"] == index]\n",
    "    return data.hvp(x=\"ID\", y=[\"mean\"])\n",
    "    #return hv.Curve(data, ).opts(title=index, width=500)\n",
    "pn.Column(pn.Row(select_indices), get_plot)"
   ]
  },
  {
   "cell_type": "code",
   "execution_count": null,
   "metadata": {},
   "outputs": [],
   "source": []
  },
  {
   "cell_type": "code",
   "execution_count": null,
   "metadata": {},
   "outputs": [],
   "source": [
    "data = df[df[\"index\"] == 'NDVI']\n",
    "data.hvplot(x=\"ID\", y=[\"min\", \"max\"])"
   ]
  },
  {
   "cell_type": "code",
   "execution_count": null,
   "metadata": {},
   "outputs": [],
   "source": [
    "column.append(text)"
   ]
  },
  {
   "cell_type": "code",
   "execution_count": null,
   "metadata": {},
   "outputs": [],
   "source": [
    "df[df[\"index\"] == 'NDVI'].plot(x=\"ID\", y=[\"min\", \"mean\", \"max\"])"
   ]
  },
  {
   "cell_type": "code",
   "execution_count": null,
   "metadata": {},
   "outputs": [],
   "source": [
    "# what does this do?\n",
    "\n",
    "data = df[df[\"index\"] == 'NDVI']\n",
    "data = data.set_index('ID')\n",
    "\n",
    "data.tail()"
   ]
  },
  {
   "cell_type": "code",
   "execution_count": null,
   "metadata": {},
   "outputs": [],
   "source": [
    "data['LEID'].min()"
   ]
  },
  {
   "cell_type": "code",
   "execution_count": null,
   "metadata": {},
   "outputs": [],
   "source": [
    "from matplotlib.figure import Figure\n",
    "from matplotlib.backends.backend_agg import FigureCanvas\n",
    "\n",
    "#%matplotlib notebook\n",
    "%matplotlib inline\n",
    "\n",
    "def mpl_plot(avg, highlight):\n",
    "    fig = Figure()\n",
    "    FigureCanvas(fig) # not needed in mpl >= 3.1\n",
    "    ax = fig.add_subplot()\n",
    "    avg.plot(ax=ax)\n",
    "    if len(highlight): highlight.plot(style='o', ax=ax)\n",
    "    return fig\n",
    "\n",
    "def find_outliers(variable='median', window=30, sigma=10, view_fn=mpl_plot):\n",
    "    avg = data[variable].rolling(window=window).mean()\n",
    "    residual = data[variable] - avg\n",
    "    std = residual.rolling(window=window).std()\n",
    "    outliers = (np.abs(residual) > std * sigma)\n",
    "    return view_fn(avg, avg[outliers])\n",
    "\n",
    "find_outliers(variable='median', window=10, sigma=10)"
   ]
  },
  {
   "cell_type": "code",
   "execution_count": null,
   "metadata": {},
   "outputs": [],
   "source": [
    "pn.interact(find_outliers)"
   ]
  },
  {
   "cell_type": "code",
   "execution_count": null,
   "metadata": {},
   "outputs": [],
   "source": [
    "myopts = ['Biology', 'Chemistry', 'Physics']\n",
    "select = pn.widgets.Select(name='Select', options=myopts)\n",
    "\n",
    "select"
   ]
  },
  {
   "cell_type": "code",
   "execution_count": null,
   "metadata": {},
   "outputs": [],
   "source": [
    "import numpy as np\n",
    "import pandas as pd\n",
    "import hvplot.pandas  # noqa\n",
    "\n",
    "#index = pd.date_range('1/1/2000', periods=1000)\n",
    "#df = pd.DataFrame(np.random.randn(1000, 4), index=index, columns=list('ABCD')).cumsum()\n",
    "\n",
    "#df.head()\n",
    "df[df[\"index\"] == 'NDWI'].hvplot(x=\"ID\", y=[\"min\", \"max\"])"
   ]
  },
  {
   "cell_type": "code",
   "execution_count": null,
   "metadata": {},
   "outputs": [],
   "source": [
    "df = pd.read_json(os.path.join(data_dir, json_dir, 'DarkPeak_full_zonal_stats.json'))\n"
   ]
  },
  {
   "cell_type": "code",
   "execution_count": null,
   "metadata": {},
   "outputs": [],
   "source": [
    "data = df[df[\"index\"] == 'NDVI']\n",
    "data = data.set_index('ID')\n",
    "data2 = data[data[\"LEID\"] == 591258]\n",
    "data2.tail()"
   ]
  },
  {
   "cell_type": "code",
   "execution_count": null,
   "metadata": {},
   "outputs": [],
   "source": [
    "import hvplot.pandas\n",
    "data2.hvplot.line(x=\"date\", y=[\"min\", \"max\"]) * data2.hvplot.scatter(x=\"date\", y=[\"min\", \"max\"])"
   ]
  },
  {
   "cell_type": "code",
   "execution_count": null,
   "metadata": {},
   "outputs": [],
   "source": [
    "import holoviews as hv\n",
    "from holoviews import opts\n",
    "from holoviews.plotting.links import DataLink\n",
    "hv.extension('bokeh')\n",
    "\n",
    "\n",
    "from bokeh.sampledata.us_counties import data as counties\n",
    "from bokeh.sampledata.unemployment import data as unemployment\n",
    "\n",
    "counties = [dict(county, Unemployment=unemployment[cid])\n",
    "            for cid, county in counties.items()\n",
    "            if county[\"state\"] == \"tx\"]\n",
    "\n",
    "county_data = [(county['detailed name'], county['Unemployment']) for county in counties]\n",
    "\n",
    "choropleth = hv.Polygons(counties, ['lons', 'lats'], [('detailed name', 'County'), 'Unemployment'], label='Texas Unemployment')\n",
    "table = hv.Table(county_data, [('detailed name', 'County'), 'Unemployment'])\n",
    "\n",
    "print(len(choropleth.data), len(table))\n",
    "\n",
    "DataLink(choropleth, table)\n",
    "\n",
    "(choropleth + table).opts(\n",
    "    opts.Table(height=428),\n",
    "    opts.Polygons(width=500, height=500,  tools=['hover', 'tap'], xaxis=None, \n",
    "                  yaxis=None, color_index='Unemployment'))"
   ]
  },
  {
   "cell_type": "markdown",
   "metadata": {},
   "source": [
    "# Imports"
   ]
  },
  {
   "cell_type": "code",
   "execution_count": null,
   "metadata": {},
   "outputs": [],
   "source": [
    "import panel as pn\n",
    "import holoviews as hv"
   ]
  },
  {
   "cell_type": "markdown",
   "metadata": {},
   "source": [
    "# Functions"
   ]
  },
  {
   "cell_type": "code",
   "execution_count": null,
   "metadata": {},
   "outputs": [],
   "source": [
    "def get_data(dschoice):\n",
    "    return print(dschoice.value)\n"
   ]
  },
  {
   "cell_type": "markdown",
   "metadata": {},
   "source": [
    "# Widgets"
   ]
  },
  {
   "cell_type": "markdown",
   "metadata": {},
   "source": [
    "### Widget 1: Dataset selection"
   ]
  },
  {
   "cell_type": "code",
   "execution_count": null,
   "metadata": {},
   "outputs": [],
   "source": [
    "# create list of potential analysis areas\n",
    "dataset_opts = ['Yorks', 'Dark Peak', 'England']\n",
    "# create selection widget\n",
    "slct_data = pn.widgets.Select(name='Choose dataset', options=dataset_opts)\n",
    "slct_data\n"
   ]
  },
  {
   "cell_type": "markdown",
   "metadata": {},
   "source": [
    "### Widget 2: Index selection"
   ]
  },
  {
   "cell_type": "code",
   "execution_count": null,
   "metadata": {},
   "outputs": [],
   "source": [
    "# find unique indices in df_in \n",
    "uniqueInd = list(df_in['index'].unique())\n",
    "\n",
    "# create selection widget\n",
    "slct_index = pn.widgets.RadioButtonGroup(name='Index chooser', \\\n",
    "                                          options=uniqueInd, button_type='default')"
   ]
  },
  {
   "cell_type": "markdown",
   "metadata": {},
   "source": [
    "### Widget 3: Select temporal requirement"
   ]
  },
  {
   "cell_type": "code",
   "execution_count": null,
   "metadata": {},
   "outputs": [],
   "source": [
    "# create list of potential analysis areas\n",
    "dataset_opts2 = ['Month', 'Season']\n",
    "# create selection widget\n",
    "slct_data2 = pn.widgets.Select(name='Choose temporal filter', options=dataset_opts2)\n",
    "slct_data2"
   ]
  },
  {
   "cell_type": "markdown",
   "metadata": {},
   "source": [
    "### Widget 4: Select statistic"
   ]
  },
  {
   "cell_type": "code",
   "execution_count": null,
   "metadata": {},
   "outputs": [],
   "source": [
    "# find unique indices in df_in \n",
    "#uniqueStat = list(df_in['index'].unique()) # NEED TO GET THIS PROGRAMATTICALLY\n",
    "uniqueStat = ['Mean', 'Median']\n",
    "\n",
    "# create selection widget\n",
    "slct_stat = pn.widgets.RadioButtonGroup(name='Statistic chooser', \\\n",
    "                                          options=uniqueStat, button_type='primary', value=uniqueStat[0])\n",
    "slct_stat"
   ]
  },
  {
   "cell_type": "markdown",
   "metadata": {},
   "source": [
    "### Widget 5: Save as image"
   ]
  },
  {
   "cell_type": "code",
   "execution_count": null,
   "metadata": {},
   "outputs": [],
   "source": [
    "#??"
   ]
  },
  {
   "cell_type": "markdown",
   "metadata": {},
   "source": [
    "### Layout tests"
   ]
  },
  {
   "cell_type": "code",
   "execution_count": null,
   "metadata": {},
   "outputs": [],
   "source": [
    "a = pn.Column(\n",
    "    slct_stat,\n",
    "    pn.Row(\n",
    "        slct_data,\n",
    "        slct_data2\n",
    "    )\n",
    ")\n",
    "a"
   ]
  },
  {
   "cell_type": "code",
   "execution_count": null,
   "metadata": {},
   "outputs": [],
   "source": [
    "# set directories for options used in area_select\n",
    "# area_select.value: [path to shp, path to json]\n",
    "data_locn = [['Dark Peak', '/opt/app/data/DarkPeak/DarkPeak_LE_Segments_Spatialjoin_10m_formatted.shp', \\\n",
    "                           '/opt/app/data/DarkPeak/DarkPeak_zonalstatsdata/DarkPeak_full_zonal_stats.json'], \\\n",
    "             ['Yorks', 'null', 'null'], \n",
    "             ['England', 'null', 'null']\n",
    "            ]\n",
    "slct_data"
   ]
  },
  {
   "cell_type": "code",
   "execution_count": null,
   "metadata": {},
   "outputs": [],
   "source": [
    "\n",
    "#Now that it is loaded we will create a slider which we will eventually use to select the row of the dataframe \n",
    "#that we want to display:\n",
    "\n",
    "#df is dataframe\n",
    "row_slider = pn.widgets.IntSlider(value=0, start=0, end=len(df)-1)\n",
    "\n",
    "#Next we create a Pane to display the current row of the dataframe with times formatted nicely:\n",
    "\n",
    "row_pane = pn.panel(df.loc[row_slider.value])\n",
    "#Now that we have defined both the widget and the object we want to update, we can declare a callback to link the two. \n",
    "#As we learned in the previous section, assigning a new value to the object of a pane will update the display. In the \n",
    "#callback we select the row of the dataframe and then assign it to the pane.object:\n",
    "\n",
    "def df_callback(event):\n",
    "    row_pane.object = df.loc[event.new]\n",
    "\n",
    "#Lastly we actually have to register this callback. To do so we provide the callback and the parameter we want to trigger \n",
    "#the event on the slider's .param.watch method:\n",
    "\n",
    "row_slider.param.watch(df_callback, 'value')\n",
    "\n",
    "#Now that everything is connected up, we can put both the widget and the pane in a panel and display them:\n",
    "\n",
    "pn.Column(row_slider, row_pane, width=400)\n",
    "\n",
    "#As you can see, this process is slightly more laborious than pn.interact or even the pn.depends approach, but doing \n",
    "#it in this way should help you see how everything fits together and can be useful to more precisely control callbacks \n",
    "#that update particular parameters or the contents of a larger layout."
   ]
  },
  {
   "cell_type": "code",
   "execution_count": null,
   "metadata": {},
   "outputs": [],
   "source": []
  },
  {
   "cell_type": "code",
   "execution_count": null,
   "metadata": {},
   "outputs": [],
   "source": [
    "import holoviews as hop\n",
    "import numpy as np\n",
    "\n",
    "line_plot = hop.Curve(np.random.rand(10)).opts(width=400)\n",
    "line_plot"
   ]
  },
  {
   "cell_type": "code",
   "execution_count": null,
   "metadata": {},
   "outputs": [],
   "source": [
    "print(line_plot.kdims)"
   ]
  },
  {
   "cell_type": "code",
   "execution_count": null,
   "metadata": {},
   "outputs": [],
   "source": [
    "import geoviews as gv\n",
    "import geoviews.feature as gf\n",
    "\n",
    "from geoviews import opts\n",
    "from cartopy import crs\n",
    "\n",
    "gv.extension('bokeh')\n",
    "\n",
    "#projections = [crs.RotatedPole, crs.LambertCylindrical, crs.Geostationary, \n",
    "#               crs.AzimuthalEquidistant, crs.OSGB, crs.EuroPP, crs.Gnomonic,\n",
    "#               crs.Mollweide, crs.OSNI, crs.Miller, crs.InterruptedGoodeHomolosine,\n",
    "#               crs.SouthPolarStereo,  crs.Orthographic, crs.NorthPolarStereo, crs.Robinson,\n",
    "#               crs.LambertConformal, crs.AlbersEqualArea]\n",
    "\n",
    "#proj_layout = gv.Layout([gf.coastline.relabel(group=p.__name__).opts(projection=p(), backend='bokeh')\n",
    "#                         for p in projections])\n",
    "\n",
    "#gv.output(proj_layout, backend='bokeh')\n",
    "shapefile = '/opt/app/data/DarkPeak/DarkPeak_LE_Segments_Spatialjoin_10m_formatted.shp'\n",
    "gv.Shape.from_shapefile(shapefile, crs=crs.OSGB())"
   ]
  },
  {
   "cell_type": "code",
   "execution_count": null,
   "metadata": {},
   "outputs": [],
   "source": [
    "import holoviews as hv\n",
    "import panel as pn\n",
    "from holoviews import streams\n",
    "hv.extension(\"bokeh\") \n",
    "\n",
    "#ellipse = hv.Ellipse(0, 0, 1) \n",
    "pointer = streams.PointerXY(x=1, y=0) # x=0 and y=0 are the initialized values\n",
    "\n",
    "print(pointer.contents)\n",
    "\n",
    "def crosshair(x, y):\n",
    "    yellow=str(pointer.contents['x'])\n",
    "    return pn.pane.Markdown(yellow) #hv.HLine(y) * hv.VLine(x) \n",
    "\n",
    "pn.Row(ellipse* hv.DynamicMap(crosshair, streams=[pointer]))"
   ]
  },
  {
   "cell_type": "code",
   "execution_count": null,
   "metadata": {},
   "outputs": [],
   "source": [
    "from datetime import datetime\n",
    " \n",
    "dates = '2020-10-10' \n",
    "time_in_datetime = datetime.strptime(dates, \"%Y-%m-%d\")\n",
    " \n",
    "print(\" Time in Datetime Format :\", time_in_datetime)"
   ]
  },
  {
   "cell_type": "code",
   "execution_count": null,
   "metadata": {},
   "outputs": [],
   "source": [
    "def test(my_num):\n",
    "    orig = my_num\n",
    "    new = orig*2\n",
    "    return orig, new\n",
    "a = test(10)\n",
    "print(a[0])"
   ]
  },
  {
   "cell_type": "code",
   "execution_count": null,
   "metadata": {},
   "outputs": [],
   "source": [
    "import param\n",
    "class GoogleMapViewer(param.Parameterized):\n",
    "    \n",
    "    continent = param.ObjectSelector(default='Asia', objects=['Africa', 'Asia', 'Europe'])\n",
    "    \n",
    "    country = param.ObjectSelector(default='China', objects=['China', 'Thailand', 'Japan'])\n",
    "    \n",
    "    _countries = {'Africa': ['Ghana', 'Togo', 'South Africa', 'Tanzania'],\n",
    "                  'Asia'  : ['China', 'Thailand', 'Japan'],\n",
    "                  'Europe': ['Austria', 'Bulgaria', 'Greece', 'Portugal', 'Switzerland']}\n",
    "    \n",
    "    @param.depends('continent', watch=True)\n",
    "    def _update_countries(self):\n",
    "        countries = self._countries[self.continent]\n",
    "        self.param['country'].objects = countries\n",
    "        self.country = countries[0]\n",
    "\n",
    "    @param.depends('country')\n",
    "    def view(self):\n",
    "        iframe = \"\"\"\n",
    "        <iframe width=\"800\" height=\"400\" src=\"https://maps.google.com/maps?q={country}&z=6&output=embed\"\n",
    "        frameborder=\"0\" scrolling=\"no\" marginheight=\"0\" marginwidth=\"0\"></iframe>\n",
    "        \"\"\".format(country=self.country)\n",
    "        return pn.pane.HTML(iframe, height=400)\n",
    "        \n",
    "viewer = GoogleMapViewer(name='Google Map Viewer')\n",
    "pn.Row(viewer.param, viewer.view)"
   ]
  },
  {
   "cell_type": "code",
   "execution_count": null,
   "metadata": {},
   "outputs": [],
   "source": [
    "df.hvplot.area(x='date', y=['open', 'close'], stacked=False,\n",
    "               groupby='date.year', legend='bottom_right', width=500)"
   ]
  },
  {
   "cell_type": "markdown",
   "metadata": {},
   "source": [
    "# RESTART"
   ]
  },
  {
   "cell_type": "code",
   "execution_count": null,
   "metadata": {},
   "outputs": [],
   "source": [
    "import param\n",
    "import panel as pn\n",
    "\n",
    "\n",
    "import pandas as pd\n",
    "\n",
    "pn.extension()\n",
    "\n",
    "class BaseClass(param.Parameterized):\n",
    "    string_value = param.String(default='Yo', doc='A string')\n",
    "    \n",
    "class Example(BaseClass):\n",
    "    color = param.Color(default='#667788')\n",
    "    hello = pd.util.testing.makeDataFrame().iloc[:3]\n",
    "    string = param.String(default=str(hello.iloc[1,1]))\n",
    "    #data = [10, 11, 12, 27, 29, 48]\n",
    "    \n",
    "pn.Row(Example.param, BaseClass.param)"
   ]
  },
  {
   "cell_type": "markdown",
   "metadata": {},
   "source": [
    "### An amended example from the docs"
   ]
  },
  {
   "cell_type": "code",
   "execution_count": null,
   "metadata": {},
   "outputs": [],
   "source": [
    "import pandas as pd\n",
    "import hvplot.pandas\n",
    "\n",
    "class Example2(param.Parameterized):\n",
    "    lastval = param.Number(33)\n",
    "    \n",
    "    @param.depends(\"lastval\")\n",
    "    def plot(self):\n",
    "        data = {\n",
    "            \"horiz\": [5, 10, 15, 20, 25],\n",
    "            \"vert\": [11, 8, 17, 25, self.lastval],\n",
    "        } \n",
    "        dataframe = pd.DataFrame(data)\n",
    "        myplot = dataframe.hvplot.scatter(x=\"horiz\", y=\"vert\", size=6, color=\"#007BFF\", responsive=True)\n",
    "        fig = myplot\n",
    "        fig = fig.opts(\n",
    "            min_height=400,\n",
    "            toolbar=None,\n",
    "            yticks=list(range(0, 50, 10)),\n",
    "            ylim=(0, 50),\n",
    "            show_grid=True,\n",
    "        )\n",
    "        return fig\n",
    "\n",
    "\n",
    "class SomeThing(param.Parameterized):\n",
    "    theplotclass = param.ClassSelector(class_=Example2, default=Example2())\n",
    "    \n",
    "mything = SomeThing()\n",
    "\n",
    "\n",
    "\n",
    "\n",
    "pn.Row(pn.Param(mything.theplotclass), mything.theplotclass.plot)"
   ]
  },
  {
   "cell_type": "markdown",
   "metadata": {},
   "source": [
    "### The example from Panel docs"
   ]
  },
  {
   "cell_type": "code",
   "execution_count": null,
   "metadata": {},
   "outputs": [],
   "source": [
    "import pandas as pd\n",
    "import hvplot.pandas\n",
    "\n",
    "class PowerCurve(param.Parameterized):\n",
    "    firstval = param.Number(1079)\n",
    "    one_min = param.Number(684)\n",
    "    \n",
    "    @param.depends(\"firstval\", \"one_min\")\n",
    "    def plot(self):\n",
    "        data = {\n",
    "            \"duration\": [10 / 60, 1, 10, 20, 60],\n",
    "            \"power\": [self.firstval, self.one_min, 12, 12, 500],\n",
    "        }\n",
    "        dataframe = pd.DataFrame(data)\n",
    "        line_plot = dataframe.hvplot.line(\n",
    "            x=\"duration\", y=\"power\", line_color=\"#007B33\", line_width=3, responsive=True,\n",
    "        )\n",
    "        scatter_plot = dataframe.hvplot.scatter(\n",
    "            x=\"duration\", y=\"power\", marker=\"o\", size=6, color=\"#007BFF\", responsive=True\n",
    "        )\n",
    "        fig = line_plot * scatter_plot\n",
    "        gridstyle = {\"grid_line_color\": \"black\", \"grid_line_width\": 0.1}\n",
    "        fig = fig.opts(\n",
    "            min_height=400,\n",
    "            toolbar=None,\n",
    "            yticks=list(range(0, 2000, 200)),\n",
    "            ylim=(0, 2000),\n",
    "            gridstyle=gridstyle,\n",
    "            show_grid=True,\n",
    "        )\n",
    "        return fig\n",
    "\n",
    "class Athlete(param.Parameterized):\n",
    "    power_curve = param.ClassSelector(class_=PowerCurve, default=PowerCurve())\n",
    "    \n",
    "athlete = Athlete()\n",
    "\n",
    "\n",
    "#def new_class(cls, **kwargs):\n",
    "#    \"Creates a new class which overrides parameter defaults.\"\n",
    "#    return type(type(cls).__name__, (cls,), kwargs)\n",
    "\n",
    "columns_view = pn.Param(\n",
    "    athlete.power_curve)\n",
    "\n",
    "power_curve_view = pn.Row(\n",
    "    columns_view,\n",
    "    pn.layout.VSpacer(width=50),\n",
    "    athlete.power_curve.plot\n",
    ")\n",
    "power_curve_view\n"
   ]
  },
  {
   "cell_type": "code",
   "execution_count": null,
   "metadata": {},
   "outputs": [],
   "source": [
    "markdown = pn.pane.Markdown(\"Textule\")\n",
    "text_input = pn.widgets.TextInput(value=markdown.object)\n",
    "\n",
    "text_input.link(markdown, value='object')\n",
    "\n",
    "pn.Row(text_input, markdown)"
   ]
  },
  {
   "cell_type": "code",
   "execution_count": null,
   "metadata": {},
   "outputs": [],
   "source": [
    "m = pn.pane.Markdown(\"\")\n",
    "t = pn.widgets.TextInput()\n",
    "\n",
    "def mycallback(target, event):\n",
    "    target.object = event.new.upper() + \" 2021\"\n",
    "\n",
    "t.link(m, callbacks={'value': mycallback})\n",
    "t.value = \"Wotcha\"\n",
    "pn.Row(t, m)"
   ]
  },
  {
   "cell_type": "code",
   "execution_count": null,
   "metadata": {},
   "outputs": [],
   "source": [
    "import panel as pn\n",
    "import geopandas as gpd\n",
    "import geoviews as gv\n",
    "import geoviews.tile_sources as gts\n",
    "# setup extensions\n",
    "pn.extension()\n",
    "gv.extension('bokeh')\n",
    "\n",
    "#Get shape data\n",
    "data_locn = {'Dark Peak': ['/opt/app/data/DarkPeak/DarkPeak_LE_Segments_Spatialjoin_10m_formatted.shp', \\\n",
    "                           '/opt/app/data/DarkPeak/DarkPeak_zonalstatsdata/DarkPeak_full_zonal_stats.json']} \n",
    "\n",
    "proc_areas = ['Dark Peak']\n",
    "area_select = pn.widgets.Select(name='Select area to process', options=proc_areas)\n",
    "             \n",
    "# load data based on result of selection - shapefile and json\n",
    "shp_file = data_locn[area_select.value][0]\n",
    "#jsn_file = data_locn[area_select.value][1]\n",
    "\n",
    "# read the shapefile as a geodataframe\n",
    "gdf_in = gpd.read_file(shp_file)\n",
    "\n",
    "# clean and filter\n",
    "to_keep = ['polygon_id', 'ID', 'main_habit', 'Confidence', 'area_m', 'geometry'] \n",
    "shp_data = gdf_in[to_keep]\n",
    "          \n",
    "# reproject the geodataframe to a new gdf\n",
    "shp_data = shp_data.to_crs(\"EPSG:4326\")\n",
    "\n",
    "polys = gv.Polygons(shp_data, vdims=['main_habit', 'area_m', 'polygon_id'])\n",
    "mymap = gts.EsriImagery * polys.opts(color='main_habit', cmap='Category20', width=600, height=350, tools=['hover', 'tap'])\n",
    "\n",
    "#polys\n",
    "jj = pn.Column(mymap)\n",
    "jj             \n",
    "             \n",
    "             \n",
    "             "
   ]
  },
  {
   "cell_type": "code",
   "execution_count": null,
   "metadata": {},
   "outputs": [],
   "source": [
    "import holoviews as hv\n",
    "m = pn.pane.Markdown(\"\")\n",
    "\n",
    "sel = hv.streams.Selection1D(source=polys)\n",
    "m.object = str(sel.index[0])\n",
    "#a = stream.index\n",
    "#str(a[0])\n",
    "pn.Row(m)"
   ]
  },
  {
   "cell_type": "code",
   "execution_count": null,
   "metadata": {},
   "outputs": [],
   "source": [
    "# from https://discourse.holoviz.org/t/selecting-polygon-s-with-holoviews/261\n",
    "\n",
    "#import geopandas as gpd\n",
    "#import geoviews as gv\n",
    "#import holoviews as hv\n",
    "#gv.extension('bokeh')\n",
    "#hv.extension('bokeh')\n",
    "\n",
    "#countries = gpd.read_file('https://github.com/johan/world.geo.json/raw/master/countries.geo.json')\n",
    "\n",
    "polys = gv.Polygons(shp_data, vdims=['main_habit'])\n",
    "\n",
    "sel = hv.streams.Selection1D(source=polys, index=[0])\n",
    "\n",
    "polys.opts(\n",
    "    tools=['hover', 'tap'], width=600,\n",
    ")\n",
    "\n",
    "\n",
    "pn.Row(polys) "
   ]
  },
  {
   "cell_type": "code",
   "execution_count": null,
   "metadata": {},
   "outputs": [],
   "source": [
    "sel.index\n"
   ]
  },
  {
   "cell_type": "code",
   "execution_count": null,
   "metadata": {},
   "outputs": [],
   "source": [
    "import geopandas as gpd\n",
    "import geoviews as gv\n",
    "import holoviews as hv\n",
    "gv.extension('bokeh')\n",
    "hv.extension('bokeh')\n",
    "\n",
    "df = gpd.read_file('https://raw.githubusercontent.com/ajggeoger/JNCCLocalIndex/main/data/DarkPeak/datasubset.geojson')\n",
    "to_keep = ['polygon_id', 'ID', 'main_habit', 'Confidence', 'Area_Ha', 'geometry'] \n",
    "mydf = df[to_keep]\n",
    "mydf = mydf.to_crs(\"EPSG:4326\")\n",
    "\n",
    "polys = gv.Polygons(mydf, vdims=['main_habit'])\n",
    "\n",
    "sel = hv.streams.Selection1D(source=polys)#, index=[0])\n",
    "\n",
    "polys.opts(\n",
    "    tools=['hover', 'tap'], width=600,\n",
    ")\n",
    "\n",
    "\n",
    "pn.Row(polys, mydf.iloc[sel.index]) \n",
    "# but what I really want is the information from mydf to be updated every time a polygon is clicked\n",
    "# and for it to be saved as a variable that I can use to slice a different dataframe\n"
   ]
  },
  {
   "cell_type": "code",
   "execution_count": null,
   "metadata": {},
   "outputs": [],
   "source": [
    "#sel.index\n",
    "#pn.Row(polys, mydf.iloc[sel.index])\n",
    "frank = hv.DynamicMap(polys)\n",
    "frank.opts(\n",
    "    tools=['hover', 'tap'], width=300,\n",
    ")\n",
    "frank"
   ]
  },
  {
   "cell_type": "code",
   "execution_count": null,
   "metadata": {},
   "outputs": [],
   "source": []
  },
  {
   "cell_type": "code",
   "execution_count": null,
   "metadata": {},
   "outputs": [],
   "source": []
  },
  {
   "cell_type": "code",
   "execution_count": null,
   "metadata": {},
   "outputs": [],
   "source": []
  },
  {
   "cell_type": "code",
   "execution_count": null,
   "metadata": {},
   "outputs": [],
   "source": [
    "print(selection.index)"
   ]
  },
  {
   "cell_type": "code",
   "execution_count": null,
   "metadata": {},
   "outputs": [],
   "source": [
    "import panel as pn\n",
    "pn.extension()\n",
    "str_pane = pn.pane.Str('selection.index', style={'font-size': '12pt'})\n",
    "col_pick = pn.widgets.ColorPicker(value='#ffeedd')\n",
    "int_slide = pn.widgets.IntSlider(name='Int Slider', start=50, end=350, step=50)\n",
    "#html_pane = pn.pane.HTML('', width=200, height=200, background=col_pick.value)\n",
    "html_pane = pn.pane.HTML('', width=int_slide.value, height=200, background=col_pick.value)\n",
    "\n",
    "#col_pick.link(html_pane, value='background') #link col_pick 'value' with html_pane 'background' \n",
    "int_slide.link(html_pane, value='width') #link col_pick 'value' with html_pane 'background' \n",
    "pn.Column(html_pane, int_slide)"
   ]
  },
  {
   "cell_type": "code",
   "execution_count": null,
   "metadata": {},
   "outputs": [],
   "source": [
    "text_input = pn.widgets.TextInput(value='Simon')\n",
    "\n",
    "@pn.depends(text_input.param.value)\n",
    "def title_text(value):\n",
    "    #return 'Hello ' + value\n",
    "    return pn.pane.HTML(value, style={'background-color': '#F6F6F6', 'border': '2px solid black'})\n",
    "\n",
    "app = pn.Row(text_input, title_text)\n",
    "app"
   ]
  },
  {
   "cell_type": "code",
   "execution_count": null,
   "metadata": {},
   "outputs": [],
   "source": [
    "a = pn.widgets.Spinner(value=10)\n",
    "b = pn.widgets.Spinner(value=20)\n",
    "\n",
    "@pn.depends(a.param.value, b.param.value) # parameter/variable that is watched\n",
    "def title_text(value1, value2): # references the inputs in depends - names can be anything\n",
    "    c = (str(value1) + str(value2)) # some function based on inputs\n",
    "    return pn.pane.HTML(c, style={'background-color': '#F6F6F6', 'border': '2px solid black'})\n",
    "\n",
    "app2 = pn.Column(pn.Row(a, title_text), b)\n",
    "app2"
   ]
  },
  {
   "cell_type": "code",
   "execution_count": null,
   "metadata": {},
   "outputs": [],
   "source": [
    "import holoviews as hv\n",
    "hv.extension('bokeh')\n",
    "from holoviews import streams\n",
    "\n",
    "pointer = streams.PointerXY(x=0, y=0)\n",
    "\n",
    "def crosshair(x,y):\n",
    "    #return hv.Polygons([hv.Box(i, i, i) for i in range(1, 10)]) * hv.HLine(y) * hv.VLine(x) \n",
    "    return hv.Ellipse(0,0,1) * hv.HLine(y) * hv.VLine(x)\n",
    "\n",
    "hv.DynamicMap(crosshair, streams=[pointer])\n"
   ]
  },
  {
   "cell_type": "code",
   "execution_count": null,
   "metadata": {},
   "outputs": [],
   "source": [
    "import geopandas as gpd\n",
    "import geoviews as gv\n",
    "import holoviews as hv\n",
    "import hvplot\n",
    "import hvplot.pandas\n",
    "gv.extension('bokeh')\n",
    "hv.extension('bokeh')\n",
    "\n",
    "#newgdf\n",
    "\n",
    "df2 = gpd.read_file('https://raw.githubusercontent.com/ajggeoger/JNCCLocalIndex/main/data/DarkPeak/datasubset.geojson')\n",
    "to_keep = ['polygon_id', 'ID', 'main_habit', 'Confidence', 'Area_Ha', 'geometry'] \n",
    "mydf = df2[to_keep]\n",
    "mydf = mydf.to_crs(\"EPSG:4326\")\n",
    "\n",
    "polys = gv.Polygons(mydf, vdims=['main_habit'])\n",
    "\n",
    "sel = hv.streams.Selection1D(source=polys, index=[0])\n",
    "\n",
    "polys.opts(\n",
    "    tools=['hover', 'tap'], width=400,\n",
    ")\n",
    "\n",
    "\n",
    "def get_selection(index):\n",
    "    polyno = mydf.iloc[sel.index]['polygon_id'].tolist()\n",
    "    data1 = df[df['ID'].isin(polyno)]\n",
    "    plot2 = data1[data1[\"index\"] == 'NDVI'].groupby(['month']).mean().hvplot.line(x='month', \n",
    "                                                                                  y='mean', \n",
    "                                                                                  color='green', \n",
    "                                                                                  title='Plot of a polygon')\n",
    "    return plot2 #mydf.iloc[sel.index]\n",
    "\n",
    "pn.Column(polys, pn.bind(get_selection, index=sel.param.index))\n",
    "\n",
    "\n",
    "\n",
    "\n",
    "#rslt_df = shp_data.loc[shp_data['main_habit'] == slct_hab] \n",
    "#    test_list = rslt_df['polygon_id'].tolist()\n",
    "#    data = df_in[df_in['ID'].isin(test_list)]\n",
    "\n",
    "\n",
    "\n",
    "#data = df[df[\"index\"] == 'NDVI']\n",
    "#data.hvplot(x=\"ID\", y=[\"min\", \"max\"])\n",
    "\n",
    "\n",
    "#pn.Row(polys, mydf.iloc[sel.index]) \n",
    "# but what I really want is the information from mydf to be updated every time a polygon is clicked\n",
    "# and for it to be saved as a variable that I can use to slice a different dataframe\n"
   ]
  },
  {
   "cell_type": "code",
   "execution_count": null,
   "metadata": {},
   "outputs": [],
   "source": [
    "pn.__version__"
   ]
  },
  {
   "cell_type": "code",
   "execution_count": null,
   "metadata": {},
   "outputs": [],
   "source": [
    "#from bokeh.sampledata import sea_surface_temperature as sst\n",
    "mydates =  pd.date_range(start='2019-01-01', end='2019-12-31')\n",
    "thedata = pd.DataFrame(mydates, columns=['dates']) \n",
    "thedata['count'] = 0\n",
    "mydata = thedata.sample(3)\n",
    "mydata\n",
    "thedata.loc[(thedata.dates == mydata.dates), 'count'] = 1\n",
    "thedata\n",
    "#df_in.loc[(df_in['ID'] == 100) & (df_in['index'] == 'RVI') & (df_in['year'] == 2019)]\n",
    "#polyno = mydf.iloc[sel.index]['polygon_id'].tolist()\n",
    "#    data1 = df_in[df_in['ID'].isin(polyno)]\n",
    "#mydata = pd.Series()\n",
    "#df = sst.sea_surface_temperature\n",
    "#aa = df.sample(200)\n",
    "#aa['temperature'] = 1\n",
    "#aa\n",
    "#aa.hvplot.heatmap(x='time.month', y='time.day', C='temperature', \n",
    "#                  height=500, width=500, colorbar=False)"
   ]
  },
  {
   "cell_type": "code",
   "execution_count": null,
   "metadata": {},
   "outputs": [],
   "source": [
    "import geopandas as gp\n",
    "import geoviews as gv\n",
    "\n",
    "import panel as pn\n",
    "pn.extension()\n",
    "\n",
    "file_input = pn.widgets.FileInput()\n",
    "\n",
    "file_input\n",
    "\n",
    "\n",
    "poly1 = gp.read_file('/opt/app/data/DarkPeak/DarkPeak_LE_Segments_Spatialjoin_10m_formatted.shp')\n",
    "poly2 = gp.read_file('/opt/app/data/DarkPeak/clip_test.shp')\n",
    "data = []\n",
    "#for index, orig in poly1.iterrows():\n",
    "#    for index2, ref in poly2.iterrows():      \n",
    "#        if ref['geometry'].intersects(orig['geometry']): \n",
    "#            owdspd=orig['id']\n",
    "#            data.append({'geometry':ref['geometry'].intersection(orig['geometry']),'wdspd':owdspd})\n",
    "\n",
    "#for geom in data: \n",
    "#    print(geom)\n",
    "res_intersection = gp.overlay(poly1, poly2, how='intersection')#how='intersection')\n",
    "data = res_intersection.to_crs(\"EPSG:4326\")\n",
    "\n",
    "polys = gv.Polygons(data)\n",
    "polys"
   ]
  },
  {
   "cell_type": "code",
   "execution_count": 19,
   "metadata": {},
   "outputs": [
    {
     "name": "stderr",
     "output_type": "stream",
     "text": [
      "WARNING:param.HeatMapPlot02414: HeatMap element index is not unique,  ensure you aggregate the data before displaying it, e.g. using heatmap.aggregate(function=np.mean). Duplicate index values have been dropped.\n"
     ]
    },
    {
     "data": {},
     "metadata": {},
     "output_type": "display_data"
    },
    {
     "data": {
      "application/vnd.holoviews_exec.v0+json": "",
      "text/html": [
       "<div id='1461'>\n",
       "\n",
       "\n",
       "\n",
       "\n",
       "\n",
       "  <div class=\"bk-root\" id=\"6c66a2b2-cdda-4c73-9f6e-97ebd1612f6d\" data-root-id=\"1461\"></div>\n",
       "</div>\n",
       "<script type=\"application/javascript\">(function(root) {\n",
       "  function embed_document(root) {\n",
       "    var docs_json = {\"e5db9a9b-08e0-41ff-9891-5cddb232365a\":{\"roots\":{\"references\":[{\"attributes\":{\"axis_label\":\"time.day\",\"bounds\":\"auto\",\"formatter\":{\"id\":\"1508\"},\"major_label_orientation\":\"horizontal\",\"ticker\":{\"id\":\"1480\"}},\"id\":\"1479\",\"type\":\"LinearAxis\"},{\"attributes\":{\"data_source\":{\"id\":\"1497\"},\"glyph\":{\"id\":\"1500\"},\"hover_glyph\":null,\"muted_glyph\":null,\"nonselection_glyph\":{\"id\":\"1501\"},\"selection_glyph\":{\"id\":\"1502\"},\"view\":{\"id\":\"1504\"}},\"id\":\"1503\",\"type\":\"GlyphRenderer\"},{\"attributes\":{\"active_drag\":\"auto\",\"active_inspect\":\"auto\",\"active_multi\":null,\"active_scroll\":\"auto\",\"active_tap\":\"auto\",\"tools\":[{\"id\":\"1465\"},{\"id\":\"1483\"},{\"id\":\"1484\"},{\"id\":\"1485\"},{\"id\":\"1486\"},{\"id\":\"1487\"}]},\"id\":\"1489\",\"type\":\"Toolbar\"},{\"attributes\":{},\"id\":\"1484\",\"type\":\"PanTool\"},{\"attributes\":{\"axis\":{\"id\":\"1475\"},\"grid_line_color\":null,\"ticker\":null},\"id\":\"1478\",\"type\":\"Grid\"},{\"attributes\":{\"source\":{\"id\":\"1497\"}},\"id\":\"1504\",\"type\":\"CDSView\"},{\"attributes\":{},\"id\":\"1506\",\"type\":\"BasicTickFormatter\"},{\"attributes\":{\"children\":[{\"id\":\"1462\"},{\"id\":\"1466\"},{\"id\":\"1525\"}],\"margin\":[0,0,0,0],\"name\":\"Row02380\",\"tags\":[\"embedded\"]},\"id\":\"1461\",\"type\":\"Row\"},{\"attributes\":{\"callback\":null,\"renderers\":[{\"id\":\"1503\"}],\"tags\":[\"hv_created\"],\"tooltips\":[[\"time.month\",\"@{time_full_stop_month}\"],[\"time.day\",\"@{time_full_stop_day}\"],[\"temperature\",\"@{temperature}\"]]},\"id\":\"1465\",\"type\":\"HoverTool\"},{\"attributes\":{\"bottom_units\":\"screen\",\"fill_alpha\":0.5,\"fill_color\":\"lightgrey\",\"left_units\":\"screen\",\"level\":\"overlay\",\"line_alpha\":1.0,\"line_color\":\"black\",\"line_dash\":[4,4],\"line_width\":2,\"right_units\":\"screen\",\"top_units\":\"screen\"},\"id\":\"1488\",\"type\":\"BoxAnnotation\"},{\"attributes\":{},\"id\":\"1480\",\"type\":\"BasicTicker\"},{\"attributes\":{},\"id\":\"1514\",\"type\":\"UnionRenderers\"},{\"attributes\":{},\"id\":\"1508\",\"type\":\"BasicTickFormatter\"},{\"attributes\":{},\"id\":\"1485\",\"type\":\"WheelZoomTool\"},{\"attributes\":{\"axis\":{\"id\":\"1479\"},\"dimension\":1,\"grid_line_color\":null,\"ticker\":null},\"id\":\"1482\",\"type\":\"Grid\"},{\"attributes\":{\"overlay\":{\"id\":\"1488\"}},\"id\":\"1486\",\"type\":\"BoxZoomTool\"},{\"attributes\":{\"margin\":[5,5,5,5],\"name\":\"HSpacer02384\",\"sizing_mode\":\"stretch_width\"},\"id\":\"1462\",\"type\":\"Spacer\"},{\"attributes\":{},\"id\":\"1483\",\"type\":\"SaveTool\"},{\"attributes\":{\"axis_label\":\"time.month\",\"bounds\":\"auto\",\"formatter\":{\"id\":\"1506\"},\"major_label_orientation\":\"horizontal\",\"ticker\":{\"id\":\"1476\"}},\"id\":\"1475\",\"type\":\"LinearAxis\"},{\"attributes\":{\"margin\":[5,5,5,5],\"name\":\"HSpacer02385\",\"sizing_mode\":\"stretch_width\"},\"id\":\"1525\",\"type\":\"Spacer\"},{\"attributes\":{},\"id\":\"1487\",\"type\":\"ResetTool\"},{\"attributes\":{\"below\":[{\"id\":\"1475\"}],\"center\":[{\"id\":\"1478\"},{\"id\":\"1482\"}],\"left\":[{\"id\":\"1479\"}],\"margin\":[5,5,5,5],\"min_border_bottom\":10,\"min_border_left\":10,\"min_border_right\":10,\"min_border_top\":10,\"plot_height\":500,\"plot_width\":500,\"renderers\":[{\"id\":\"1503\"}],\"sizing_mode\":\"fixed\",\"title\":{\"id\":\"1467\"},\"toolbar\":{\"id\":\"1489\"},\"x_range\":{\"id\":\"1463\"},\"x_scale\":{\"id\":\"1471\"},\"y_range\":{\"id\":\"1464\"},\"y_scale\":{\"id\":\"1473\"}},\"id\":\"1466\",\"subtype\":\"Figure\",\"type\":\"Plot\"},{\"attributes\":{\"data\":{\"height\":{\"__ndarray__\":\"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\",\"dtype\":\"float64\",\"order\":\"little\",\"shape\":[372]},\"temperature\":[\"7.37\",\"7.1\",\"7.3\",\"7.53\",\"7.1\",\"7.38\",\"7.51\",\"7\",\"6.66\",\"6.309\",\"6.158\",\"5.518\",\"5.168\",\"5.844\",\"5.253\",\"5.329\",\"5.267\",\"5.42\",\"5.307\",\"6.41\",\"6.155\",\"6.253\",\"6.398\",\"6.485\",\"6.47\",\"6.962\",\"5.896\",\"6.102\",\"5.958\",\"6.135\",\"5.842\",\"6.114\",\"6.133\",\"6.3\",\"6.266\",\"6.51\",\"6.489\",\"6.452\",\"6.418\",\"6.078\",\"5.859\",\"5.621\",\"5.413\",\"5.255\",\"4.964\",\"4.929\",\"4.78\",\"4.791\",\"5.094\",\"4.838\",\"4.834\",\"4.623\",\"4.839\",\"4.78\",\"4.306\",\"4.347\",\"4.358\",\"4.274\",\"4.12\",\"4.211\",\"-\",\"-\",\"4.449\",\"4.347\",\"4.759\",\"4.686\",\"4.862\",\"4.849\",\"4.973\",\"4.631\",\"5.006\",\"5.139\",\"5.127\",\"4.862\",\"4.834\",\"5.348\",\"4.72\",\"4.852\",\"4.965\",\"4.818\",\"5.024\",\"4.743\",\"4.601\",\"4.496\",\"4.275\",\"4.229\",\"4.279\",\"4.272\",\"4.367\",\"4.466\",\"4.29\",\"4.512\",\"4.746\",\"4.904\",\"5.216\",\"5.236\",\"4.857\",\"4.643\",\"4.604\",\"4.552\",\"4.589\",\"4.953\",\"4.952\",\"4.959\",\"4.779\",\"4.917\",\"5.376\",\"5.36\",\"5.743\",\"5.541\",\"5.996\",\"6.84\",\"6.48\",\"6.338\",\"6.852\",\"7.33\",\"8.12\",\"7.07\",\"7.35\",\"7\",\"7.42\",\"7.26\",\"7.32\",\"-\",\"8.08\",\"7.94\",\"7.86\",\"7.78\",\"7.23\",\"5.975\",\"7.28\",\"6.683\",\"7.14\",\"7.38\",\"7.99\",\"8.77\",\"8.81\",\"8.97\",\"9.58\",\"7.95\",\"6.939\",\"7.75\",\"8.3\",\"9\",\"9.62\",\"9.12\",\"10.54\",\"12.05\",\"9.75\",\"10.84\",\"11.85\",\"12.55\",\"14.49\",\"11.78\",\"12.58\",\"14.21\",\"13.97\",\"13.92\",\"13.95\",\"14.72\",\"14.21\",\"14.61\",\"15.47\",\"14.75\",\"11.92\",\"12.79\",\"13.06\",\"12.3\",\"12.63\",\"12.94\",\"14.56\",\"14.4\",\"14.78\",\"14.63\",\"14.05\",\"13.8\",\"13.51\",\"14.2\",\"14.2\",\"14.64\",\"15.5\",\"15.68\",\"13.69\",\"13.23\",\"13.94\",\"-\",\"14.74\",\"13.57\",\"15.05\",\"16.12\",\"15.49\",\"16.13\",\"16.27\",\"15.8\",\"17.39\",\"17.52\",\"17.63\",\"17.68\",\"17.72\",\"18.37\",\"17.8\",\"18.86\",\"20.1\",\"19.33\",\"18.78\",\"18.73\",\"19.05\",\"19.43\",\"19.69\",\"19.66\",\"19.89\",\"20.22\",\"21.04\",\"21.1\",\"20.72\",\"20.6\",\"21.19\",\"20.62\",\"20.44\",\"20.51\",\"20.41\",\"19.76\",\"18.95\",\"17.77\",\"18.22\",\"18.29\",\"17.8\",\"16.11\",\"17.64\",\"18.9\",\"19.43\",\"20.36\",\"21.05\",\"20.78\",\"19.28\",\"19.73\",\"19.45\",\"19.65\",\"19.74\",\"19.28\",\"18.86\",\"17.91\",\"18.67\",\"19.84\",\"19.88\",\"19.62\",\"18.41\",\"19.01\",\"19.24\",\"20.21\",\"19.28\",\"19.03\",\"18.86\",\"18.4\",\"18.37\",\"18.57\",\"18.41\",\"19.42\",\"18.95\",\"18.71\",\"18.35\",\"18.48\",\"18.47\",\"17.84\",\"17.87\",\"16.98\",\"16.87\",\"17.11\",\"17.88\",\"17.61\",\"17.46\",\"15.45\",\"14.3\",\"14.91\",\"15.09\",\"15.01\",\"15.1\",\"15.21\",\"-\",\"15.05\",\"15.22\",\"15.46\",\"15.91\",\"15.73\",\"15.83\",\"15.79\",\"16.11\",\"15.76\",\"15.22\",\"14.16\",\"14.6\",\"14.93\",\"14.93\",\"14.8\",\"14.53\",\"14.73\",\"14.94\",\"14.67\",\"14.92\",\"14.87\",\"14.97\",\"14.7\",\"13.52\",\"13.13\",\"12.66\",\"12.46\",\"12.33\",\"12\",\"12.35\",\"12.18\",\"11.82\",\"11.62\",\"11.81\",\"11.5\",\"11.35\",\"11.29\",\"11.24\",\"11.03\",\"10.94\",\"11.02\",\"11.13\",\"11.15\",\"11.07\",\"10.97\",\"10.87\",\"11.11\",\"11.02\",\"11.21\",\"11.56\",\"11.52\",\"11.3\",\"11.23\",\"11.16\",\"11.08\",\"11\",\"10.65\",\"10.4\",\"10.61\",\"10.56\",\"10.63\",\"-\",\"10.41\",\"10.13\",\"9.44\",\"9.71\",\"9.77\",\"9.78\",\"10.09\",\"10.24\",\"10.12\",\"9.42\",\"9.45\",\"9.72\",\"9.43\",\"9.09\",\"9.35\",\"9.32\",\"8.63\",\"8.67\",\"8.75\",\"8.52\",\"8.18\",\"7.98\",\"7.62\",\"6.79\",\"6.359\",\"7.35\",\"8.01\",\"7.65\",\"7.27\",\"7.62\",\"6.629\"],\"time_full_stop_day\":[1,2,3,4,5,6,7,8,9,10,11,12,13,14,15,16,17,18,19,20,21,22,23,24,25,26,27,28,29,30,31,1,2,3,4,5,6,7,8,9,10,11,12,13,14,15,16,17,18,19,20,21,22,23,24,25,26,27,28,29,30,31,1,2,3,4,5,6,7,8,9,10,11,12,13,14,15,16,17,18,19,20,21,22,23,24,25,26,27,28,29,30,31,1,2,3,4,5,6,7,8,9,10,11,12,13,14,15,16,17,18,19,20,21,22,23,24,25,26,27,28,29,30,31,1,2,3,4,5,6,7,8,9,10,11,12,13,14,15,16,17,18,19,20,21,22,23,24,25,26,27,28,29,30,31,1,2,3,4,5,6,7,8,9,10,11,12,13,14,15,16,17,18,19,20,21,22,23,24,25,26,27,28,29,30,31,1,2,3,4,5,6,7,8,9,10,11,12,13,14,15,16,17,18,19,20,21,22,23,24,25,26,27,28,29,30,31,1,2,3,4,5,6,7,8,9,10,11,12,13,14,15,16,17,18,19,20,21,22,23,24,25,26,27,28,29,30,31,1,2,3,4,5,6,7,8,9,10,11,12,13,14,15,16,17,18,19,20,21,22,23,24,25,26,27,28,29,30,31,1,2,3,4,5,6,7,8,9,10,11,12,13,14,15,16,17,18,19,20,21,22,23,24,25,26,27,28,29,30,31,1,2,3,4,5,6,7,8,9,10,11,12,13,14,15,16,17,18,19,20,21,22,23,24,25,26,27,28,29,30,31,1,2,3,4,5,6,7,8,9,10,11,12,13,14,15,16,17,18,19,20,21,22,23,24,25,26,27,28,29,30,31],\"time_full_stop_month\":[1,1,1,1,1,1,1,1,1,1,1,1,1,1,1,1,1,1,1,1,1,1,1,1,1,1,1,1,1,1,1,2,2,2,2,2,2,2,2,2,2,2,2,2,2,2,2,2,2,2,2,2,2,2,2,2,2,2,2,2,2,2,3,3,3,3,3,3,3,3,3,3,3,3,3,3,3,3,3,3,3,3,3,3,3,3,3,3,3,3,3,3,3,4,4,4,4,4,4,4,4,4,4,4,4,4,4,4,4,4,4,4,4,4,4,4,4,4,4,4,4,4,4,4,5,5,5,5,5,5,5,5,5,5,5,5,5,5,5,5,5,5,5,5,5,5,5,5,5,5,5,5,5,5,5,6,6,6,6,6,6,6,6,6,6,6,6,6,6,6,6,6,6,6,6,6,6,6,6,6,6,6,6,6,6,6,7,7,7,7,7,7,7,7,7,7,7,7,7,7,7,7,7,7,7,7,7,7,7,7,7,7,7,7,7,7,7,8,8,8,8,8,8,8,8,8,8,8,8,8,8,8,8,8,8,8,8,8,8,8,8,8,8,8,8,8,8,8,9,9,9,9,9,9,9,9,9,9,9,9,9,9,9,9,9,9,9,9,9,9,9,9,9,9,9,9,9,9,9,10,10,10,10,10,10,10,10,10,10,10,10,10,10,10,10,10,10,10,10,10,10,10,10,10,10,10,10,10,10,10,11,11,11,11,11,11,11,11,11,11,11,11,11,11,11,11,11,11,11,11,11,11,11,11,11,11,11,11,11,11,11,12,12,12,12,12,12,12,12,12,12,12,12,12,12,12,12,12,12,12,12,12,12,12,12,12,12,12,12,12,12,12],\"width\":{\"__ndarray__\":\"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\",\"dtype\":\"float64\",\"order\":\"little\",\"shape\":[372]},\"zvalues\":{\"__ndarray__\":\"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\",\"dtype\":\"float64\",\"order\":\"little\",\"shape\":[372]}},\"selected\":{\"id\":\"1498\"},\"selection_policy\":{\"id\":\"1514\"}},\"id\":\"1497\",\"type\":\"ColumnDataSource\"},{\"attributes\":{\"fill_alpha\":{\"value\":0.1},\"fill_color\":{\"field\":\"zvalues\",\"transform\":{\"id\":\"1496\"}},\"height\":{\"field\":\"height\",\"units\":\"data\"},\"line_alpha\":{\"value\":0},\"line_color\":{\"value\":\"#1f77b4\"},\"width\":{\"field\":\"width\",\"units\":\"data\"},\"x\":{\"field\":\"time_full_stop_month\"},\"y\":{\"field\":\"time_full_stop_day\"}},\"id\":\"1501\",\"type\":\"Rect\"},{\"attributes\":{\"fill_color\":{\"field\":\"zvalues\",\"transform\":{\"id\":\"1496\"}},\"height\":{\"field\":\"height\",\"units\":\"data\"},\"line_alpha\":{\"value\":0},\"line_color\":{\"value\":\"#1f77b4\"},\"width\":{\"field\":\"width\",\"units\":\"data\"},\"x\":{\"field\":\"time_full_stop_month\"},\"y\":{\"field\":\"time_full_stop_day\"}},\"id\":\"1500\",\"type\":\"Rect\"},{\"attributes\":{},\"id\":\"1471\",\"type\":\"LinearScale\"},{\"attributes\":{\"fill_color\":{\"field\":\"zvalues\",\"transform\":{\"id\":\"1496\"}},\"height\":{\"field\":\"height\",\"units\":\"data\"},\"line_alpha\":{\"value\":0},\"line_color\":{\"value\":\"#1f77b4\"},\"width\":{\"field\":\"width\",\"units\":\"data\"},\"x\":{\"field\":\"time_full_stop_month\"},\"y\":{\"field\":\"time_full_stop_day\"}},\"id\":\"1502\",\"type\":\"Rect\"},{\"attributes\":{\"text\":\"This a plot of temperature\",\"text_color\":{\"value\":\"black\"},\"text_font_size\":{\"value\":\"12pt\"}},\"id\":\"1467\",\"type\":\"Title\"},{\"attributes\":{\"high\":22.15,\"low\":3.612,\"nan_color\":\"white\",\"palette\":[\"#b3fef5\",\"#b0fef5\",\"#adfdf5\",\"#a9fcf5\",\"#a6fbf6\",\"#a3faf6\",\"#a0faf6\",\"#9df9f6\",\"#9af8f6\",\"#97f7f6\",\"#93f7f6\",\"#90f6f6\",\"#8df5f6\",\"#8af4f7\",\"#87f3f7\",\"#83f2f7\",\"#80f2f7\",\"#7df1f7\",\"#79f0f7\",\"#76eff7\",\"#73eef7\",\"#6fedf8\",\"#6cecf8\",\"#68ecf8\",\"#65ebf8\",\"#61eaf8\",\"#5ee9f8\",\"#5ae8f8\",\"#57e7f8\",\"#53e6f8\",\"#50e5f9\",\"#4ce4f9\",\"#49e3f9\",\"#45e2f9\",\"#42e1f9\",\"#3ee0f9\",\"#3bdff9\",\"#38def9\",\"#35ddf9\",\"#32dcf9\",\"#30dbfa\",\"#2ed9fa\",\"#2dd8fa\",\"#2cd7fa\",\"#2bd6fa\",\"#2bd5fa\",\"#2ad3fa\",\"#2ad2fa\",\"#29d1fa\",\"#29d0fb\",\"#29cffb\",\"#28cdfb\",\"#28ccfb\",\"#28cbfb\",\"#28cafb\",\"#28c8fb\",\"#28c7fb\",\"#29c6fb\",\"#29c5fb\",\"#29c4fb\",\"#29c2fb\",\"#2ac1fb\",\"#2ac0fb\",\"#2bbffb\",\"#2bbdfc\",\"#2cbcfc\",\"#2dbbfc\",\"#2db9fc\",\"#2eb8fc\",\"#2fb7fc\",\"#2fb6fc\",\"#30b4fc\",\"#31b3fc\",\"#32b2fc\",\"#32b0fc\",\"#33affc\",\"#33aefc\",\"#34adfc\",\"#34abfc\",\"#34aafc\",\"#35a9fc\",\"#35a8fc\",\"#35a6fc\",\"#35a5fc\",\"#35a4fc\",\"#35a3fc\",\"#35a1fc\",\"#35a0fc\",\"#359ffc\",\"#359dfc\",\"#359cfc\",\"#359bfc\",\"#349afd\",\"#3498fd\",\"#3497fd\",\"#3396fd\",\"#3395fd\",\"#3293fd\",\"#3292fd\",\"#3191fd\",\"#3090fd\",\"#308ffd\",\"#2f8dfd\",\"#2f8cfd\",\"#2e8bfd\",\"#2e8afd\",\"#2d88fd\",\"#2d87fd\",\"#2c86fd\",\"#2c84fd\",\"#2c83fd\",\"#2c82fd\",\"#2b81fd\",\"#2b7ffd\",\"#2b7efd\",\"#2b7dfd\",\"#2b7bfd\",\"#2b7afd\",\"#2b79fd\",\"#2b77fd\",\"#2b76fd\",\"#2b75fd\",\"#2b73fd\",\"#2c72fd\",\"#2c71fd\",\"#2c6ffd\",\"#2c6efd\",\"#2d6cfd\",\"#2d6bfd\",\"#2d6afc\",\"#2e68fc\",\"#2e67fc\",\"#2e65fc\",\"#2e64fc\",\"#2f62fc\",\"#2f61fc\",\"#2f5ffc\",\"#2f5efc\",\"#2f5dfc\",\"#2f5bfc\",\"#2f5afc\",\"#2f58fb\",\"#2f57fb\",\"#2f55fb\",\"#2f53fb\",\"#2f52fb\",\"#2f50fb\",\"#2f4ffb\",\"#2f4dfb\",\"#2e4cfb\",\"#2e4afb\",\"#2e48fb\",\"#2e47fa\",\"#2d45fa\",\"#2d43fa\",\"#2d42fa\",\"#2d40fa\",\"#2c3efa\",\"#2c3dfa\",\"#2b3bf9\",\"#2b39f9\",\"#2a37f9\",\"#2a36f8\",\"#2934f8\",\"#2832f7\",\"#2831f7\",\"#272ff6\",\"#262ef5\",\"#252cf5\",\"#252af4\",\"#2429f3\",\"#2327f2\",\"#2226f1\",\"#2124f0\",\"#2023ef\",\"#1f22ee\",\"#1e20ed\",\"#1d1feb\",\"#1c1eea\",\"#1b1ce9\",\"#1a1be7\",\"#181ae6\",\"#1719e5\",\"#1618e3\",\"#1417e1\",\"#1316e0\",\"#1215de\",\"#1014dc\",\"#0f13db\",\"#0e12d9\",\"#0d11d7\",\"#0c10d5\",\"#0b0fd3\",\"#0a0ed1\",\"#090dd0\",\"#080dce\",\"#080ccc\",\"#070bca\",\"#070ac8\",\"#0709c6\",\"#0708c4\",\"#0707c2\",\"#0707bf\",\"#0806bd\",\"#0806bb\",\"#0905b9\",\"#0904b7\",\"#0a04b5\",\"#0a04b2\",\"#0b03b0\",\"#0c03ae\",\"#0d02ab\",\"#0e02a9\",\"#0e02a7\",\"#0f02a4\",\"#0f01a2\",\"#1001a0\",\"#10019d\",\"#10019b\",\"#100199\",\"#100197\",\"#100194\",\"#0f0192\",\"#0f0190\",\"#0f018e\",\"#0e018b\",\"#0e0189\",\"#0d0187\",\"#0d0185\",\"#0c0183\",\"#0b0181\",\"#0b017e\",\"#0a017c\",\"#09017a\",\"#090178\",\"#080276\",\"#070274\",\"#060272\",\"#060270\",\"#05026e\",\"#04026c\",\"#030269\",\"#030267\",\"#020265\",\"#010263\",\"#010261\",\"#00025f\",\"#00025d\",\"#00025b\",\"#000259\",\"#000257\",\"#000255\",\"#000154\",\"#000152\",\"#000150\",\"#00004e\"]},\"id\":\"1496\",\"type\":\"LinearColorMapper\"},{\"attributes\":{},\"id\":\"1476\",\"type\":\"BasicTicker\"},{\"attributes\":{\"end\":12.5,\"reset_end\":12.5,\"reset_start\":0.5,\"start\":0.5,\"tags\":[[[\"time.month\",\"time.month\",null]]]},\"id\":\"1463\",\"type\":\"Range1d\"},{\"attributes\":{},\"id\":\"1473\",\"type\":\"LinearScale\"},{\"attributes\":{},\"id\":\"1498\",\"type\":\"Selection\"},{\"attributes\":{\"end\":31.5,\"reset_end\":31.5,\"reset_start\":0.5,\"start\":0.5,\"tags\":[[[\"time.day\",\"time.day\",null]]]},\"id\":\"1464\",\"type\":\"Range1d\"}],\"root_ids\":[\"1461\"]},\"title\":\"Bokeh Application\",\"version\":\"2.2.3\"}};\n",
       "    var render_items = [{\"docid\":\"e5db9a9b-08e0-41ff-9891-5cddb232365a\",\"root_ids\":[\"1461\"],\"roots\":{\"1461\":\"6c66a2b2-cdda-4c73-9f6e-97ebd1612f6d\"}}];\n",
       "    root.Bokeh.embed.embed_items_notebook(docs_json, render_items);\n",
       "  }\n",
       "  if (root.Bokeh !== undefined && root.Bokeh.Panel !== undefined) {\n",
       "    embed_document(root);\n",
       "  } else {\n",
       "    var attempts = 0;\n",
       "    var timer = setInterval(function(root) {\n",
       "      if (root.Bokeh !== undefined && root.Bokeh.Panel !== undefined) {\n",
       "        clearInterval(timer);\n",
       "        embed_document(root);\n",
       "      } else if (document.readyState == \"complete\") {\n",
       "        attempts++;\n",
       "        if (attempts > 100) {\n",
       "          clearInterval(timer);\n",
       "          console.log(\"Bokeh: ERROR: Unable to run BokehJS code because BokehJS library is missing\");\n",
       "        }\n",
       "      }\n",
       "    }, 10, root)\n",
       "  }\n",
       "})(window);</script>"
      ],
      "text/plain": [
       ":HeatMap   [time.month,time.day]   (temperature)"
      ]
     },
     "execution_count": 19,
     "metadata": {
      "application/vnd.holoviews_exec.v0+json": {
       "id": "1461"
      }
     },
     "output_type": "execute_result"
    }
   ],
   "source": [
    "import hvplot.pandas  # noqa\n",
    "from bokeh.sampledata import sea_surface_temperature as sst\n",
    "\n",
    "df = sst.sea_surface_temperature\n",
    "my_title = ('This a plot of ' + \"% s\") % 'temperature'\n",
    "\n",
    "df.hvplot.heatmap(x='time.month', y='time.day', C='temperature', \n",
    "                  title=my_title, height=500, width=500, colorbar=False)"
   ]
  },
  {
   "cell_type": "code",
   "execution_count": 7,
   "metadata": {},
   "outputs": [
    {
     "data": {
      "image/png": "[encoded data removed]",
      "text/plain": [
       "<Figure size 432x288 with 1 Axes>"
      ]
     },
     "metadata": {
      "needs_background": "light"
     },
     "output_type": "display_data"
    },
    {
     "name": "stdout",
     "output_type": "stream",
     "text": [
      "[-6.99599554  4.52447215 38.83823581 59.2930694  39.69023857  5.81295484]\n"
     ]
    }
   ],
   "source": [
    "import numpy as np\n",
    "import matplotlib.pyplot as plt\n",
    "\n",
    "X = [1, 5, 8, 10, 14, 18, 22, 27, 34]\n",
    "Y = [1, 1, 10, 20, 45, 75, 40, 23, 12]\n",
    "\n",
    "# Train Algorithm (Polynomial)\n",
    "degree = 4\n",
    "poly_fit = np.poly1d(np.polyfit(X,Y, degree))\n",
    "\n",
    "# Plot data\n",
    "xx = np.linspace(0, 26, 100)\n",
    "plt.plot(xx, poly_fit(xx), c='r',linestyle='-')\n",
    "plt.title('Polynomial')\n",
    "plt.xlabel('X')\n",
    "plt.ylabel('Y')\n",
    "plt.axis([0, 25, 0, 100])\n",
    "plt.grid(True)\n",
    "plt.scatter(X, Y)\n",
    "plt.show()\n",
    "\n",
    "# Predict price\n",
    "aa = poly_fit([3, 7, 12, 19, 24, 30])\n",
    "print(aa)"
   ]
  },
  {
   "cell_type": "code",
   "execution_count": 17,
   "metadata": {},
   "outputs": [
    {
     "data": {
      "text/plain": [
       "<AxesSubplot:xlabel='Yr', ylabel='Tmax'>"
      ]
     },
     "execution_count": 17,
     "metadata": {},
     "output_type": "execute_result"
    },
    {
     "data": {
      "image/png": "[encoded data removed]",
      "text/plain": [
       "<Figure size 432x288 with 1 Axes>"
      ]
     },
     "metadata": {
      "needs_background": "light"
     },
     "output_type": "display_data"
    },
    {
     "data": {
      "image/png": "[encoded data removed]",
      "text/plain": [
       "<Figure size 432x288 with 1 Axes>"
      ]
     },
     "metadata": {
      "needs_background": "light"
     },
     "output_type": "display_data"
    }
   ],
   "source": [
    "import pandas as pd\n",
    "weather = pd.read_csv('https://raw.githubusercontent.com/alanjones2/dataviz/master/londonweather.csv')\n",
    "\n",
    "july = weather.query('Month == 4')\n",
    "july.insert(0,'Yr',range(0,len(july)))\n",
    "\n",
    "july.plot(y='Tmax',x='Yr')\n",
    "\n",
    "n=3\n",
    "d = np.polyfit(july['Yr'],july['Tmax'],n)\n",
    "f = np.poly1d(d)\n",
    "\n",
    "july.insert(6,'Treg',f(july['Yr']))\n",
    "\n",
    "ax = july.plot(x = 'Yr',y='Tmax', kind='scatter')\n",
    "july.plot(x='Yr', y='Treg',color='Red',ax=ax)"
   ]
  },
  {
   "cell_type": "code",
   "execution_count": null,
   "metadata": {},
   "outputs": [],
   "source": [
    "# based on https://www.thepythoncode.com/article/get-hardware-system-information-python\n",
    "\n",
    "import psutil\n",
    "def get_size(bytes, suffix=\"B\"):\n",
    "    \"\"\"\n",
    "    Scale bytes to its proper format\n",
    "    e.g:\n",
    "        1253656 => '1.20MB'\n",
    "        1253656678 => '1.17GB'\n",
    "    \"\"\"\n",
    "    factor = 1024\n",
    "    for unit in [\"\", \"K\", \"M\", \"G\", \"T\", \"P\"]:\n",
    "        if bytes < factor:\n",
    "            return f\"{bytes:.2f}{unit}{suffix}\"\n",
    "        bytes /= factor\n",
    "        \n",
    "# let's print CPU information\n",
    "print(\"=\"*40, \"CPU Info\", \"=\"*40)\n",
    "# number of cores\n",
    "print(\"Physical cores:\", psutil.cpu_count(logical=False))\n",
    "print(\"Total cores:\", psutil.cpu_count(logical=True))\n",
    "print(f\"Total CPU Usage: {psutil.cpu_percent()}%\")\n",
    "\n",
    "# Memory Information\n",
    "print(\"=\"*40, \"Memory Information\", \"=\"*40)\n",
    "# get the memory details\n",
    "svmem = psutil.virtual_memory()\n",
    "print(f\"Total: {get_size(svmem.total)}\")\n",
    "print(f\"Available: {get_size(svmem.available)}\")\n",
    "print(f\"Used: {get_size(svmem.used)}\")\n",
    "print(f\"Percentage: {svmem.percent}%\")\n",
    "\n",
    "# Disk Information\n",
    "print(\"=\"*40, \"Disk Information\", \"=\"*40)\n",
    "print(\"Partitions and Usage:\")\n",
    "usage = psutil.disk_usage('/')\n",
    "print(f\"Total disk: {get_size(usage.total)}\")\n",
    "print(f\"Used: {get_size(usage.used)}\")\n",
    "print(f\"Free: {get_size(usage.free)}\")\n",
    "print(f\"Percentage: {usage.percent}%\")\n"
   ]
  },
  {
   "cell_type": "code",
   "execution_count": null,
   "metadata": {},
   "outputs": [],
   "source": [
    "from rtree import index\n",
    "idx = index.Index()\n",
    "left, bottom, right, top = (0.0, 0.0, 1.0, 1.0)\n",
    "idx.insert(0, (left, bottom, right, top))\n",
    "list(idx.nearest((1.0000001, 1.0000001, 2.0, 2.0), 1))"
   ]
  },
  {
   "cell_type": "code",
   "execution_count": null,
   "metadata": {},
   "outputs": [],
   "source": []
  }
 ],
 "metadata": {
  "kernelspec": {
   "display_name": "Python 3",
   "language": "python",
   "name": "python3"
  },
  "language_info": {
   "codemirror_mode": {
    "name": "ipython",
    "version": 3
   },
   "file_extension": ".py",
   "mimetype": "text/x-python",
   "name": "python",
   "nbconvert_exporter": "python",
   "pygments_lexer": "ipython3",
   "version": "3.9.1"
  }
 },
 "nbformat": 4,
 "nbformat_minor": 4
}
